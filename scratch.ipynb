{
 "cells": [
  {
   "cell_type": "code",
   "execution_count": 1,
   "id": "57dbd6b9",
   "metadata": {},
   "outputs": [
    {
     "name": "stdout",
     "output_type": "stream",
     "text": [
      "The autoreload extension is already loaded. To reload it, use:\n",
      "  %reload_ext autoreload\n"
     ]
    }
   ],
   "source": [
    "%load_ext autoreload\n",
    "%matplotlib inline"
   ]
  },
  {
   "cell_type": "markdown",
   "id": "3ea5e630",
   "metadata": {},
   "source": [
    "- The fact that so many lenses are able to contribute to the deflection might be a relic of using point like lenses.  Try making them finite size, i.e. look into Gaussian lenses from Sid+Ken et alo's PS paper. (they are somewhere between pointlike and fluffy sub-halos)\n",
    "- microlensing are good at point like objects"
   ]
  },
  {
   "cell_type": "code",
   "execution_count": 2,
   "id": "3ab2ad2f",
   "metadata": {},
   "outputs": [],
   "source": [
    "%autoreload\n",
    "\n",
    "import numpy as np\n",
    "import pickle\n",
    "\n",
    "from scipy.interpolate import interp1d\n",
    "import scipy.stats as stat\n",
    "\n",
    "# Astropy\n",
    "from astropy.coordinates import SkyCoord\n",
    "from astropy import units as u\n",
    "import astropy.coordinates as coord\n",
    "\n",
    "# lenstools\n",
    "import lenstools as lt\n",
    "\n",
    "# Convenient variables\n",
    "pi   = np.pi\n",
    "norm = np.linalg.norm\n",
    "mult = np.matmul\n",
    "dot  = np.dot"
   ]
  },
  {
   "cell_type": "markdown",
   "id": "e3a9f321",
   "metadata": {},
   "source": [
    "Questions:\n",
    "- We can find the circular motion of the sun around the Milky Way by following the references in `coord.Galactocentric().frame_attribute_references`. But the sun isn't the only star on a circular path.  Shouldn't all stars have circular paths?  And doesn't that affect our ability to see multiblips?  We should start somewhere easier.\n",
    "- Doesn't the observed flux of the star also increase due to lensing (i.e. focusing)? Shouldn't that be taken into account?\n",
    "- How does Gaia determine the distance?  Angular position makes sense, and so I know how a lens would distort the apparent angular position.  But what about apparent vs. observed distance?\n",
    "- What about multiple deflections?  Three lenses somewhat along the line of sight -> confusing geometry of the observed source.\n",
    "- For a $10^8 M_\\odot$ compact source, the source can have an impact parameter of $3 Mpc$ and produce a $\\mu as$ deflection.  Seems suspiciously sensitive.... however based on Ken's paper, it's true.\n",
    "- However, the above seems to tell me that the approximations going into Ken's lens equation (small angle, etc.) aren't valid anymore.  I've found \\href[Virbhadra+Ellis](https://arxiv.org/pdf/astro-ph/9904193.pdf) for the full equation.\n",
    "- If such far away objects can deflect source light significantly, and there are many such objects throughout the halo, shouldn't we use an equation that involves many lenses?"
   ]
  },
  {
   "cell_type": "markdown",
   "id": "46573def",
   "metadata": {},
   "source": [
    "TODO:\n",
    "- Figure out feasibility (what will GAIA measure?  What are our capabilities? Is this a good idea, or a solution in search of a problem?)\n",
    "- What should we look for: sub-haloes, exotic compact objects (Diss DM Rouven1812), minihaloes (erickcek), PBHs"
   ]
  },
  {
   "cell_type": "markdown",
   "id": "5fe080c7",
   "metadata": {},
   "source": [
    "Two possibilities:\n",
    "- $\\textbf{Conceptually simple}$: source (6d position, intrinsic props?), lens (6d position, intrinsic params), properties of Gaia?\n",
    "- $\\textbf{Technically simple}$:  What are the dof's? Cut them down with spherical symmetry. source (distance away, perp velocity), lens (distance, impact parameter, enclosed mass, perp velocity)\n",
    "\n",
    "\n",
    "Progression:\n",
    "1. Assume a simple reference frame where the observer is at the origin, the orientation is fixed and arbitrary, and the sources and lenses move in straight lines.\n",
    "2. Add the parallax effect.\n",
    "3. Put the origin in the Galactic center, sample lenses and sources wrt the center, put the observer at its correct position (8kpc away). Assume no rotations, just a stationary observer and linear motions of lenses and sources. The linear motions can be given by the Jeans Equation with simple approximations.\n",
    "4. Put in coherent motions of lenses, sources, and observer around the center."
   ]
  },
  {
   "cell_type": "markdown",
   "id": "ae1707b5",
   "metadata": {},
   "source": [
    "# 1. Simple Frame, Simple Distributions"
   ]
  },
  {
   "cell_type": "markdown",
   "id": "d60fc120",
   "metadata": {},
   "source": [
    "## Initialization"
   ]
  },
  {
   "cell_type": "code",
   "execution_count": 40,
   "id": "7a108f43",
   "metadata": {},
   "outputs": [],
   "source": [
    "# Number of sources, lenses\n",
    "N_s, N_l = 20, 10\n",
    "\n",
    "# compact object mass, in solar masses\n",
    "M_co = 1e7 * u.M_sun\n",
    "\n",
    "# Average Distance of source according to Gaia DR2\n",
    "R_s  = 600 * u.pc\n"
   ]
  },
  {
   "cell_type": "code",
   "execution_count": 102,
   "id": "f289b65c",
   "metadata": {},
   "outputs": [],
   "source": [
    "%autoreload\n",
    "observer = lt.Observer(parallax=False)"
   ]
  },
  {
   "cell_type": "code",
   "execution_count": 103,
   "id": "093aca63",
   "metadata": {},
   "outputs": [
    {
     "name": "stdout",
     "output_type": "stream",
     "text": [
      "\n",
      "What the observer sees without a lens (\\theta, \\phi): \n",
      "\t[1.35880465 4.26632316] rad\n",
      "\n",
      "\n",
      "Deviation induced by lens\n",
      "Ken's formula: \n",
      "\t[ 1.70341997 -1.87503903] mas\n",
      "\n",
      "quadratic formula:\n",
      "\t[ 2.66036683 -2.92839807] mas\n"
     ]
    }
   ],
   "source": [
    "%autoreload\n",
    "\n",
    "observer = lt.Observer()\n",
    "lens, src = lt.sample('relative', scale=np.array([4,4,.1])*u.kpc, observer=observer)\n",
    "lens.M = M_co\n",
    "\n",
    "# (4*lt.G_N*lens.M/lt.c**2 / lt.mu_as).to(u.pc)\n",
    "\n",
    "n = (lens.x-observer.x)/norm(lens.x-observer.x)\n",
    "# print(\n",
    "#     'Dl: ',  dot(n,lens.x), '\\n',\n",
    "#     'Ds: ',  dot(n,src.x), '\\n',\n",
    "#     '|b|: ', norm(src.x - dot(n,src.x)*n),\n",
    "#     sep=''\n",
    "# )\n",
    "\n",
    "print(\n",
    "    '\\nWhat the observer sees without a lens (\\\\theta, \\phi): \\n\\t', \n",
    "    observer.observe(src), \n",
    "    sep=''\n",
    ")\n",
    "\n",
    "print(\n",
    "    '\\n\\nDeviation induced by lens',\n",
    "    '\\nKen\\'s formula: \\n\\t', \n",
    "    (observer.observe(src, lens, method='fully_approximate') - observer.observe(src)).to(u.mas), \n",
    "    sep=''\n",
    ")\n",
    "\n",
    "# print(\n",
    "#     '\\nquadratic formula: \\n\\t\\Delta \\\\theta+:', \n",
    "#     observer.observe(src, lens, method='quadratic')[0] - observer.observe(src), \n",
    "#     '\\n\\t\\Delta \\\\theta-:',\n",
    "#     observer.observe(src, lens, method='quadratic')[1] - observer.observe(src), \n",
    "#     sep=''\n",
    "# )\n",
    "\n",
    "print(\n",
    "    '\\nquadratic formula:\\n\\t', \n",
    "    (observer.observe(src, lens, method='quadratic') - observer.observe(src)).to(u.mas), \n",
    "    sep=''\n",
    ")"
   ]
  },
  {
   "cell_type": "code",
   "execution_count": 104,
   "id": "0cf28385",
   "metadata": {},
   "outputs": [],
   "source": [
    "tmp = lt.Lens(\n",
    "    x = np.array([1,1,1]) * u.pc,\n",
    "    v = np.array([0,-1,0]) * u.km/u.s,\n",
    "    kind='Gaussian', M = 1e4 * u.M_sun, R = 1 * u.pc\n",
    ")      "
   ]
  },
  {
   "cell_type": "code",
   "execution_count": 34,
   "id": "6acc39da",
   "metadata": {},
   "outputs": [
    {
     "data": {
      "text/latex": [
       "$0.66666667 \\; \\mathrm{M_{\\odot}}$"
      ],
      "text/plain": [
       "<Quantity 0.66666667 solMass>"
      ]
     },
     "execution_count": 34,
     "metadata": {},
     "output_type": "execute_result"
    }
   ],
   "source": [
    "from scipy import integrate\n",
    "f = lambda y, x: x*y**2\n",
    "integrate.dblquad(f, 0, 2, lambda x: 0, lambda x: 1)[0] * tmp.M.unit"
   ]
  },
  {
   "cell_type": "code",
   "execution_count": 22,
   "id": "3f1b3add",
   "metadata": {},
   "outputs": [
    {
     "data": {
      "text/plain": [
       "100.0"
      ]
     },
     "execution_count": 22,
     "metadata": {},
     "output_type": "execute_result"
    }
   ],
   "source": [
    "b_lower, b_upper = .1 * u.pc, .1 * u.kpc\n",
    "b_upper.to(tmp.R.unit).value"
   ]
  },
  {
   "cell_type": "code",
   "execution_count": 37,
   "id": "5192afbf",
   "metadata": {},
   "outputs": [],
   "source": [
    "def f(x, b):\n",
    "    r = np.sqrt(x**2 + b**2)\n",
    "    return b * tmp.rho(r * tmp.R.unit).value"
   ]
  },
  {
   "cell_type": "code",
   "execution_count": 38,
   "id": "974a00b0",
   "metadata": {},
   "outputs": [
    {
     "data": {
      "text/plain": [
       "(789.3859874010723, 3.8665571722162895e-07)"
      ]
     },
     "execution_count": 38,
     "metadata": {},
     "output_type": "execute_result"
    }
   ],
   "source": [
    "b_lower, b_upper = (tmp.R/100).value, 2.3 * u.kpc\n",
    "x_lower, x_upper = (tmp.R/100).value, (tmp.R*100).value\n",
    "b_upper = b_upper.to(tmp.R.unit).value\n",
    "\n",
    "integrate.dblquad(f, b_lower, b_upper, \n",
    "                  lambda b: x_lower, lambda b: x_upper)"
   ]
  },
  {
   "cell_type": "code",
   "execution_count": 52,
   "id": "b4617809",
   "metadata": {},
   "outputs": [
    {
     "data": {
      "text/plain": [
       "(1591.549430918961, 6.6445754098865e-07)"
      ]
     },
     "execution_count": 52,
     "metadata": {},
     "output_type": "execute_result"
    }
   ],
   "source": [
    "b_lower, b_upper = 0, 2.3 * u.kpc\n",
    "x_lower, x_upper = -(tmp.R*100).value, (tmp.R*100).value\n",
    "b_upper = b_upper.to(tmp.R.unit).value\n",
    "\n",
    "integrate.dblquad(f, b_lower, b_upper, \n",
    "                  lambda b: x_lower, lambda b: x_upper)"
   ]
  },
  {
   "cell_type": "code",
   "execution_count": 5,
   "id": "8ca3c59a",
   "metadata": {},
   "outputs": [
    {
     "data": {
      "text/latex": [
       "$1.0227122 \\; \\mathrm{\\frac{kpc}{yr}}$"
      ],
      "text/plain": [
       "<Quantity 1.02271217 kpc / yr>"
      ]
     },
     "execution_count": 5,
     "metadata": {},
     "output_type": "execute_result"
    }
   ],
   "source": [
    "(1e9*u.km/u.s).to(u.kpc/u.yr)"
   ]
  },
  {
   "cell_type": "code",
   "execution_count": 81,
   "id": "fb01ecab",
   "metadata": {},
   "outputs": [],
   "source": [
    "%autoreload\n",
    "# lens.M*=10\n",
    "lens_tmp = lens.copy()\n",
    "src_tmp = src.copy()\n",
    "\n",
    "fac=1\n",
    "fac2=5\n",
    "\n",
    "lens_tmp.v = np.array([0,0,0]) * u.km/u.s\n",
    "lens_tmp.x = np.array([0,0,1]) * u.kpc\n",
    "lens_tmp.M = 1e6 * u.M_sun\n",
    "\n",
    "src_tmp.v = np.array([1,0,0]) * 1e6*fac*fac2 * u.km/u.s\n",
    "src_tmp.x = np.array([-.01*fac2,.01,2]) * u.kpc\n",
    "\n",
    "# src_tmp.time_evolve(dt=-25*0.1*u.yr)\n",
    "# lens_tmp.time_evolve(dt=-25*0.1*u.yr)\n",
    "\n",
    "tmp1, tmp2 = observer.observe(src_tmp, lens_tmp, method='fully_approximate', N=100, dt=0.2/fac * u.yr)\n",
    "\n",
    "# tmp1, tmp2 = observer.observe(src_tmp, lens_tmp, method='quadratic', N=100, dt=0.2/fac * u.yr)\n",
    "\n",
    "t_vec = np.arange(0,2/fac,.02/fac)"
   ]
  },
  {
   "cell_type": "code",
   "execution_count": 78,
   "id": "16717eef",
   "metadata": {},
   "outputs": [
    {
     "data": {
      "text/plain": [
       "[<matplotlib.lines.Line2D at 0x135717400>]"
      ]
     },
     "execution_count": 78,
     "metadata": {},
     "output_type": "execute_result"
    },
    {
     "data": {
      "image/png": "[encoded data removed]",
      "text/plain": [
       "<Figure size 432x288 with 1 Axes>"
      ]
     },
     "metadata": {
      "needs_background": "light"
     },
     "output_type": "display_data"
    }
   ],
   "source": [
    "plt.figure()\n",
    "plt.plot(tmp1[:,0], tmp1[:,1])\n",
    "plt.plot(tmp2[:,0], tmp2[:,1])"
   ]
  },
  {
   "cell_type": "markdown",
   "id": "bbd7b00f",
   "metadata": {},
   "source": [
    "We should see how quickly this deviation becomes visible by eye as the impact parameter goes to zero."
   ]
  },
  {
   "cell_type": "code",
   "execution_count": 79,
   "id": "53ba9406",
   "metadata": {
    "collapsed": true
   },
   "outputs": [
    {
     "data": {
      "text/plain": [
       "[<matplotlib.lines.Line2D at 0x1357f0b80>]"
      ]
     },
     "execution_count": 79,
     "metadata": {},
     "output_type": "execute_result"
    },
    {
     "data": {
      "image/png": "[encoded data removed]",
      "text/plain": [
       "<Figure size 432x288 with 1 Axes>"
      ]
     },
     "metadata": {
      "needs_background": "light"
     },
     "output_type": "display_data"
    }
   ],
   "source": [
    "# plt.plot(t_vec, np.abs(tmp2[:,0]-tmp1[:,0]))\n",
    "plt.plot(t_vec, np.abs(tmp2[:,0]))\n",
    "plt.plot(t_vec, np.abs(tmp1[:,0]))\n",
    "# plt.plot(t_vec, np.abs(tmp2[:,1]-tmp1[:,1]))"
   ]
  },
  {
   "cell_type": "markdown",
   "id": "06ce4fe8",
   "metadata": {},
   "source": [
    "## Cross-Checks"
   ]
  },
  {
   "cell_type": "code",
   "execution_count": 35,
   "id": "357d5302",
   "metadata": {},
   "outputs": [
    {
     "name": "stdout",
     "output_type": "stream",
     "text": [
      "0.0\n",
      "1.2560739669470201e-15\n",
      "2.175583928816829e-15\n",
      "1.0877919644084146e-15\n",
      "9.930136612989092e-16\n",
      "2.808666774861361e-15\n",
      "0.0\n",
      "1.9984014443252818e-15\n",
      "2.085919684541963e-15\n",
      "9.930136612989092e-16\n"
     ]
    }
   ],
   "source": [
    "## Without a lens, I get the phi and theta of a source to machine precision\n",
    "\n",
    "for i in np.arange(10):\n",
    "    lens, source = lt.sample('relative', scale=8*u.kpc, observer=observer)\n",
    "    r = norm(source.x)\n",
    "    theta, phi = observer.observe(source)\n",
    "    print(norm(source.x.value - np.array(\n",
    "        [(r*np.sin(theta)*np.cos(phi)).value, \n",
    "        (r*np.sin(theta)*np.sin(phi)).value, \n",
    "        (r*np.cos(theta)).value])\n",
    "    ))"
   ]
  },
  {
   "cell_type": "markdown",
   "id": "2508062a",
   "metadata": {},
   "source": [
    "# 3. Distributions of Sources and Lenses"
   ]
  },
  {
   "cell_type": "code",
   "execution_count": null,
   "id": "781f826e",
   "metadata": {},
   "outputs": [],
   "source": [
    "lenses = lt.Lenses(\n",
    "    x = lt.sample_position(N[1], lt.R), \n",
    "    v = stat.norm.rvs(0, lt.v_esc, [N[1],3]),\n",
    "    M = M_co\n",
    ")\n",
    "\n",
    "sources = lt.Sources(\n",
    "    x = lt.sample_position(N[1], lt.R), \n",
    "    v = stat.norm.rvs(0, lt.v_esc, [N[1],3])\n",
    ")"
   ]
  },
  {
   "cell_type": "markdown",
   "id": "6cf4483f",
   "metadata": {},
   "source": [
    "# Convert to Sky Coordinates"
   ]
  },
  {
   "cell_type": "code",
   "execution_count": 9,
   "id": "585bddf1",
   "metadata": {},
   "outputs": [],
   "source": [
    "scnow = SkyCoord(\n",
    "    x=(x_srcs[:,0]*u.km).to(u.kpc),\n",
    "    y=(x_srcs[:,1]*u.km).to(u.kpc),\n",
    "    z=(x_srcs[:,2]*u.km).to(u.kpc),\n",
    "    frame='galactocentric'\n",
    ")\n",
    "scnow = scnow.transform_to(coord.ICRS)"
   ]
  },
  {
   "cell_type": "code",
   "execution_count": 28,
   "id": "3dbb0a19",
   "metadata": {},
   "outputs": [],
   "source": [
    "#!!! Pretending that the Earth's orbit is a circle with radius 1 AU\n",
    "amplitude = 1*u.kpc\n",
    "repr0 = scnow.barycentrictrueecliptic.cartesian\n",
    "\n",
    "def eclcart_to_spherical1(rep):\n",
    "    return rep.represent_as(coord.SphericalRepresentation)\n",
    "\n",
    "#scatkwargs = dict(s=mag_to_size(mag), alpha=.9, c=scnow.distance, cmap=darker_vidiris)\n",
    "scatkwargs = dict(alpha=.9)\n",
    "\n",
    "def animfunc(phase, eclcart_to_spherical, ax, ylims=(0, 90)):\n",
    "    drepr = coord.CartesianRepresentation([np.cos(phase),np.sin(phase),0]*amplitude)\n",
    "    rep = repr0 + drepr\n",
    "    srep = eclcart_to_spherical(rep)\n",
    "    \n",
    "    ax.cla()\n",
    "    # ax.set_title(f'Center={centerstr}, Earth semimajor axis={amplitude}')\n",
    "    ax.scatter(srep.lon.rad, 90-srep.lat.deg, **scatkwargs)\n",
    "    ax.set_ylim(*ylims)\n",
    "    ax.set_yticks(np.linspace(*ax.get_ylim(), 5)[1:])\n",
    "    ax.set_yticklabels(['{}'.format(int(90-yl)) for yl in ax.get_yticks()])\n",
    "    ax.grid(alpha=.5)"
   ]
  },
  {
   "cell_type": "code",
   "execution_count": 29,
   "id": "55cc742c",
   "metadata": {},
   "outputs": [
    {
     "data": {
      "image/png": "[encoded data removed]",
      "text/plain": [
       "<Figure size 400x400 with 1 Axes>"
      ]
     },
     "metadata": {},
     "output_type": "display_data"
    }
   ],
   "source": [
    "fig = plt.figure(figsize=(4, 4))\n",
    "ax = plt.subplot(projection='polar')\n",
    "\n",
    "\n",
    "animfunc(0, eclcart_to_spherical1, ax)"
   ]
  },
  {
   "cell_type": "code",
   "execution_count": 98,
   "id": "05bede22",
   "metadata": {},
   "outputs": [],
   "source": [
    "# repr0 = scnow.barycentrictrueecliptic.cartesian\n",
    "repr0 = scnow.icrs.cartesian\n",
    "\n",
    "phase=0\n",
    "drepr = coord.CartesianRepresentation([np.cos(phase),np.sin(phase),0]*amplitude)\n",
    "rep = repr0 + drepr\n",
    "# rep.represent_as(coord.ICRS)"
   ]
  },
  {
   "cell_type": "code",
   "execution_count": 99,
   "id": "af913cc9",
   "metadata": {},
   "outputs": [
    {
     "data": {
      "text/plain": [
       "<CartesianRepresentation (x, y, z) in kpc\n",
       "    [(-5.88491096,  -3.17144999,   3.26537629),\n",
       "     (-1.78705735,  -5.03318686,   0.49145424),\n",
       "     ( 2.12181245,  -4.81548062,  -9.31338091),\n",
       "     (-1.05714391,   2.24176212,  -3.60568316),\n",
       "     (-9.94418522,  -8.68866432,  -1.50307338),\n",
       "     ( 3.7048713 ,  -6.94958579, -10.73358314),\n",
       "     (-0.3648277 ,  -2.98405263,   1.79430698),\n",
       "     (-3.13936839,  -6.97368781,  -7.46274514),\n",
       "     (-9.25288161,  -8.7603972 ,  -6.27116545),\n",
       "     ( 2.26020559,  -6.61371122,  -7.13838266),\n",
       "     (-1.65667663, -13.07425287,  -4.58932112),\n",
       "     ( 7.6833585 ,  -3.68172812,  -2.08089504),\n",
       "     (-4.68418629, -12.05147278,   2.84192512),\n",
       "     (-1.95375495,  -4.59401553, -13.32005351),\n",
       "     (-0.15167927, -14.59132701,  -2.58342049),\n",
       "     ( 0.04703921, -12.81225564,  -7.54114061),\n",
       "     (-2.6646762 ,  -3.96574743,  -5.06596959),\n",
       "     ( 1.05224875,  -3.79933595,   3.73953472),\n",
       "     ( 2.26879884,  -8.18843645,  -1.38900304),\n",
       "     (-3.11827705,  -5.19385553,  -7.69231472)]>"
      ]
     },
     "execution_count": 99,
     "metadata": {},
     "output_type": "execute_result"
    }
   ],
   "source": [
    "rep"
   ]
  },
  {
   "cell_type": "markdown",
   "id": "3d1fe6c9",
   "metadata": {},
   "source": [
    "### SkyCoord Practice"
   ]
  },
  {
   "cell_type": "code",
   "execution_count": 6,
   "id": "ec8cff56",
   "metadata": {},
   "outputs": [],
   "source": [
    "from astropy.coordinates import SkyCoord\n",
    "from astropy import units as u\n",
    "import astropy.coordinates as coord"
   ]
  },
  {
   "cell_type": "code",
   "execution_count": 7,
   "id": "bf63116f",
   "metadata": {},
   "outputs": [],
   "source": [
    "from astropy.time import Time\n",
    "c = SkyCoord(l=10*u.degree, b=45*u.degree, distance=100*u.pc,\n",
    "              pm_l_cosb=34*u.mas/u.yr, pm_b=-117*u.mas/u.yr,\n",
    "              frame='galactic',\n",
    "              obstime=Time('1988-12-18 05:11:23.5'))\n",
    "\n",
    "c = coord.SkyCoord(ra=[158.3122, 24.5] * u.degree,\n",
    "                    dec=[-17.3, 81.52] * u.degree,\n",
    "                    distance=[11.5, 24.12] * u.kpc)"
   ]
  },
  {
   "cell_type": "code",
   "execution_count": 8,
   "id": "c162737c",
   "metadata": {},
   "outputs": [
    {
     "data": {
      "text/plain": [
       "<SkyCoord (ICRS): (ra, dec, distance) in (deg, deg, kpc)\n",
       "    [(158.3122, -17.3 , 11.5 ), ( 24.5   ,  81.52, 24.12)]>"
      ]
     },
     "execution_count": 8,
     "metadata": {},
     "output_type": "execute_result"
    }
   ],
   "source": [
    "c"
   ]
  },
  {
   "cell_type": "code",
   "execution_count": 9,
   "id": "0032a4a4",
   "metadata": {},
   "outputs": [
    {
     "data": {
      "text/latex": [
       "$100000 \\; \\mathrm{pc}$"
      ],
      "text/plain": [
       "<Quantity 100000. pc>"
      ]
     },
     "execution_count": 9,
     "metadata": {},
     "output_type": "execute_result"
    }
   ],
   "source": [
    "(1e-2*u.mas).to(u.pc, u.parallax())"
   ]
  },
  {
   "cell_type": "code",
   "execution_count": 10,
   "id": "9100ec3b",
   "metadata": {},
   "outputs": [
    {
     "data": {
      "text/plain": [
       "<bound method Quantity.to of <Quantity 0.01 mas>>"
      ]
     },
     "execution_count": 10,
     "metadata": {},
     "output_type": "execute_result"
    }
   ],
   "source": [
    "(1e-2*u.mas).to"
   ]
  },
  {
   "cell_type": "code",
   "execution_count": 11,
   "id": "ff1d5c19",
   "metadata": {},
   "outputs": [
    {
     "data": {
      "text/plain": [
       "<SkyCoord (Galactocentric: galcen_coord=<ICRS Coordinate: (ra, dec) in deg\n",
       "    (266.4051, -28.936175)>, galcen_distance=8.122 kpc, galcen_v_sun=(12.9, 245.6, 7.78) km / s, z_sun=20.8 pc, roll=0.0 deg): (x, y, z) in kpc\n",
       "    [( -9.43489286, -9.40062188, 6.51345359),\n",
       "     (-21.11044918, 18.76334013, 7.83175149)]>"
      ]
     },
     "execution_count": 11,
     "metadata": {},
     "output_type": "execute_result"
    }
   ],
   "source": [
    "c.transform_to(coord.Galactocentric) "
   ]
  },
  {
   "cell_type": "code",
   "execution_count": 63,
   "id": "c08d186c",
   "metadata": {},
   "outputs": [
    {
     "data": {
      "text/plain": [
       "63241.077084266275"
      ]
     },
     "execution_count": 63,
     "metadata": {},
     "output_type": "execute_result"
    }
   ],
   "source": [
    "(u.lightyear/u.au).decompose().scale"
   ]
  },
  {
   "cell_type": "code",
   "execution_count": 51,
   "id": "985122c7",
   "metadata": {},
   "outputs": [],
   "source": [
    "ra = np.array([10.1,1.1,2.0, 0.2])*u.rad\n",
    "dec = np.array([1.1, 1.0, 0.02, 0.5])*u.rad\n",
    "dist = (np.array([100.2,5.5,1.0, 2.2])*u.mas).to(u.pc, u.parallax())\n",
    "\n",
    "scnow = SkyCoord(ra, dec, distance=dist)\n",
    "x,y,z = scnow.cartesian.xyz"
   ]
  },
  {
   "cell_type": "code",
   "execution_count": 44,
   "id": "23d5424e",
   "metadata": {},
   "outputs": [],
   "source": [
    "repr0 = scnow.barycentrictrueecliptic.cartesian"
   ]
  },
  {
   "cell_type": "code",
   "execution_count": 46,
   "id": "0d4e425a",
   "metadata": {},
   "outputs": [
    {
     "data": {
      "text/plain": [
       "<SphericalRepresentation (lon, lat, distance) in (rad, rad, pc)\n",
       "    [(0.72018533,  0.92671848,    9.98003992),\n",
       "     (1.26500575,  0.61933823,  181.81818182),\n",
       "     (2.02965064, -0.35040349, 1000.        ),\n",
       "     (0.38706697,  0.37956058,  454.54545455)]>"
      ]
     },
     "execution_count": 46,
     "metadata": {},
     "output_type": "execute_result"
    }
   ],
   "source": [
    "repr0.represent_as(SphericalRepresentation)"
   ]
  },
  {
   "cell_type": "code",
   "execution_count": 16,
   "id": "08572bb8",
   "metadata": {},
   "outputs": [],
   "source": [
    "# How can I start in a frame centered at the center of the Milky Way?\n",
    "sc_srcs = SkyCoord(\n",
    "    representation_type='cartesian',\n",
    "    x = x_srcs[:,0],\n",
    "    y = x_srcs[:,1],\n",
    "    z = x_srcs[:,2]\n",
    ")"
   ]
  },
  {
   "cell_type": "markdown",
   "id": "89d798fb",
   "metadata": {},
   "source": [
    "# GAIA DR2"
   ]
  },
  {
   "cell_type": "markdown",
   "id": "8d400505",
   "metadata": {},
   "source": [
    "I am following [this](https://gist.github.com/eteq/02a0065f15da3b3d8c2a9dea146a2a14#file-parallax_gaiadr2-ipynb) code. \n",
    "\n",
    "Also, [astroquery](https://astroquery.readthedocs.io/en/v0.3.9/index.html#archives) seems interesting enough to learn more about.\n",
    "\n",
    "Another way to download data [here](https://www.cosmos.esa.int/web/gaia-users/archive/programmatic-access#command_Sect1)."
   ]
  },
  {
   "cell_type": "code",
   "execution_count": 3,
   "id": "8a6e6761",
   "metadata": {},
   "outputs": [],
   "source": [
    "import numpy as np\n",
    "\n",
    "from termcolor import cprint\n",
    "\n",
    "import astropy.units as u\n",
    "from astropy.io import votable\n",
    "from astropy.coordinates import SkyCoord, CartesianRepresentation, SphericalRepresentation, matrix_utilities\n",
    "from astropy.table import Table\n",
    "\n",
    "from matplotlib import cm, colors, pyplot as plt\n",
    "from matplotlib import animation\n",
    "from IPython.display import HTML\n",
    "\n",
    "from astroquery import gaia\n",
    "from astroquery.gaia import Gaia as g\n",
    "from astroquery.utils.tap import TapPlus"
   ]
  },
  {
   "cell_type": "code",
   "execution_count": 33,
   "id": "b8be2ba2",
   "metadata": {},
   "outputs": [],
   "source": [
    "using_ari = False\n",
    "def fix_ari_query(job):\n",
    "    from urllib.request import urlopen\n",
    "    from xml import etree\n",
    "\n",
    "    remtree = etree.ElementTree.parse(urlopen(job.get_remote_location()))\n",
    "\n",
    "    res_elem = remtree.find('*/{http://www.ivoa.net/xml/UWS/v1.0}result')\n",
    "    res_url = res_elem.attrib['{http://www.w3.org/1999/xlink}href']\n",
    "    res_url\n",
    "\n",
    "    vtab = votable.parse(res_url)\n",
    "\n",
    "    for fi in vtab.iter_fields_and_params():\n",
    "        if not isinstance(fi, votable.tree.Field):\n",
    "            continue #params\n",
    "        fi.ID = fi.name\n",
    "    return vtab.get_first_table().to_table()"
   ]
  },
  {
   "cell_type": "code",
   "execution_count": 36,
   "id": "f0a33b37",
   "metadata": {},
   "outputs": [
    {
     "name": "stdout",
     "output_type": "stream",
     "text": [
      "INFO: Retrieving tables... [astroquery.utils.tap.core]\n",
      "INFO: Parsing tables... [astroquery.utils.tap.core]\n",
      "INFO: Done. [astroquery.utils.tap.core]\n"
     ]
    }
   ],
   "source": [
    "## Load metadata\n",
    "tmp = g.load_tables()\n",
    "print(tmp[0].get_qualified_name())\n",
    "tds = {t.get_qualified_name():t for t in tmp}\n",
    "for key in tds.keys():\n",
    "    if 'source' in key:\n",
    "        print(key)\n",
    "\n",
    "# tmp2 = g.load_table('gaiadr2.gaia_source')"
   ]
  },
  {
   "cell_type": "code",
   "execution_count": 4,
   "id": "52b6b936",
   "metadata": {},
   "outputs": [],
   "source": [
    "from astroquery.gaia import Gaia as g\n",
    "import astropy.units as u\n",
    "from astropy.io import votable\n",
    "from astropy.coordinates import SkyCoord, CartesianRepresentation, SphericalRepresentation, matrix_utilities\n",
    "from astropy.table import Table"
   ]
  },
  {
   "cell_type": "code",
   "execution_count": 192,
   "id": "ffb6e93f",
   "metadata": {},
   "outputs": [
    {
     "name": "stdout",
     "output_type": "stream",
     "text": [
      "INFO: Query finished. [astroquery.utils.tap.core]\n",
      " "
     ]
    }
   ],
   "source": [
    "%%prun\n",
    "## Load actual data\n",
    "\n",
    "# How to figure out queries? \n",
    "# Go to https://gea.esac.esa.int/archive/ then go to search.\n",
    "# Fill in values, go to show query, it will show you how to do ADQL\n",
    "# Tutorials: https://gea.esac.esa.int/archive/documentation/GDR2/Gaia_archive/chap_cu9arch/sec_cu9arch_tutorials/,\n",
    "#            https://gea.esac.esa.int/archive-help/adql/examples/index.html\n",
    "# Best: https://www.gaia.ac.uk/data/gaia-data-release-1/adql-cookbooks\n",
    "\n",
    "\n",
    "# pclim = 10*u.kpc\n",
    "# pxlim = pclim.to(u.marcsec, u.parallax())\n",
    "\n",
    "# mag = 15 # 12\n",
    "\n",
    "# qry=f\"\"\"\n",
    "# SELECT *\n",
    "# FROM gaiadr2.gaia_source\n",
    "# WHERE parallax >= {pxlim.value} AND phot_g_mean_mag <= {mag}\n",
    "# \"\"\"\n",
    "\n",
    "# 2e6 takes 5 minutes, about .1 GB\n",
    "qry = \"\"\"SELECT TOP 2000000 gaia_source.source_id,gaia_source.ra,\n",
    "gaia_source.dec,gaia_source.parallax,gaia_source.pmra,\n",
    "gaia_source.pmdec,gaia_source.radial_velocity,\n",
    "gaia_source.phot_g_mean_mag\n",
    "FROM gaiadr2.gaia_source \"\"\"\n",
    "\n",
    "job = g.launch_job_async(qry)\n",
    "tab = job.get_results()\n",
    "len(tab)\n",
    "\n",
    "# pickle.dump(tab, open('/Users/gregoryridgway/Desktop/AstroML/'+\n",
    "# 'Astrometric_TSeries_ML/data/Gaia_DR2_top2e6', 'wb'))"
   ]
  },
  {
   "cell_type": "code",
   "execution_count": 114,
   "id": "0131c6c0",
   "metadata": {},
   "outputs": [],
   "source": [
    "tab = pickle.load(open('/Users/gregoryridgway/Desktop/AstroML/Astrometric_TSeries_ML/data/Gaia_DR2_top2e6', 'rb'))\n",
    "\n",
    "# only need to do the fix described above if the ARI mirror is used\n",
    "# if using_ari:\n",
    "#     tab = fix_ari_query(job)\n",
    "# else:\n",
    "# the Gaia server outputs tables with units that aren't parsable.  So we just manually fix some of those here\n",
    "tab['pmra'].unit = 'mas / yr'\n",
    "tab['pmdec'].unit = 'mas / yr'\n",
    "tab['radial_velocity'].unit = 'km / s'\n",
    "\n",
    "# mag = np.array(tab['phot_g_mean_mag'])\n",
    "scnow = SkyCoord(\n",
    "    tab['ra'], \n",
    "    tab['dec'], \n",
    "    distance=(np.array(tab['parallax'])*u.mas).to(u.pc, u.parallax())\n",
    ")\n",
    "\n",
    "# Proper Motion\n",
    "\n",
    "# scpm = SkyCoord(scnow, pm_dec=u.Quantity(tab['pmdec'][msk]),\n",
    "#     pm_ra_cosdec=u.Quantity(tab['pmra'][msk])*np.cos(scnow.dec))\n",
    "# scpmecl = scpm.barycentrictrueecliptic\n",
    "scpmrv = SkyCoord(scnow, pm_dec=u.Quantity(tab['pmdec']),\n",
    "                       pm_ra_cosdec=u.Quantity(tab['pmra'])*np.cos(scnow.dec),\n",
    "                       radial_velocity=u.Quantity(tab['radial_velocity'].filled(0))\n",
    "               )\n",
    "# scpmrvecl = scpmrv.barycentrictrueecliptic\n",
    "# max((scpmrv.dec-scpmrv.apply_space_motion(dt=1*u.year).dec).to(u.mas))"
   ]
  },
  {
   "cell_type": "code",
   "execution_count": null,
   "id": "4177505b",
   "metadata": {},
   "outputs": [],
   "source": [
    "(np.array(tab['parallax'])*u.mas).to"
   ]
  },
  {
   "cell_type": "code",
   "execution_count": 337,
   "id": "6554e3e6",
   "metadata": {},
   "outputs": [],
   "source": [
    "dist_arr = (np.array(tab['parallax'])*u.mas).to(u.pc, u.parallax()).value/1e3\n",
    "dist_mask = ~np.isnan(dist_arr) & (dist_arr<16)\n",
    "\n",
    "ra_arr = np.array(tab['ra'])\n",
    "dec_arr = np.array(tab['dec'])\n",
    "\n",
    "pmra_arr = np.array(tab['pmra'])\n",
    "pmra_mask = ~np.isnan(pmra_arr)\n",
    "\n",
    "pmdec_arr = np.array(tab['pmdec'])\n",
    "pmdec_mask = ~np.isnan(pmdec_arr)\n",
    "\n",
    "# apply masks\n",
    "vel_arr = [(dist_arr * pmra_arr*1e3/lt.rad_to_muas)[dist_mask & pmra_mask],\n",
    "           (dist_arr * pmdec_arr*1e3/lt.rad_to_muas)[dist_mask & pmdec_mask]]\n",
    "\n",
    "dist_arr = dist_arr[dist_mask]\n",
    "dist_arr = dist_arr[dist_arr<16]\n",
    "\n",
    "pmra_arr = pmra_arr[pmra_mask]\n",
    "pmdec_arr = pmdec_arr[pmdec_mask]"
   ]
  },
  {
   "cell_type": "code",
   "execution_count": 338,
   "id": "05914fcf",
   "metadata": {},
   "outputs": [
    {
     "data": {
      "text/plain": [
       "(73.23920201425558, 88.46363032252033)"
      ]
     },
     "execution_count": 338,
     "metadata": {},
     "output_type": "execute_result"
    }
   ],
   "source": [
    "np.std(vel_arr[0])*1e9, np.std(vel_arr[1])*1e9"
   ]
  },
  {
   "cell_type": "code",
   "execution_count": 193,
   "id": "110cf250",
   "metadata": {},
   "outputs": [
    {
     "data": {
      "text/plain": [
       "(13.790535533158241, 2487.07555659402)"
      ]
     },
     "execution_count": 193,
     "metadata": {},
     "output_type": "execute_result"
    }
   ],
   "source": [
    "(dist_arr.mean(), dist_arr.std())  # Throw out nans"
   ]
  },
  {
   "cell_type": "code",
   "execution_count": 241,
   "id": "5fd5d515",
   "metadata": {},
   "outputs": [
    {
     "data": {
      "text/plain": [
       "(2.8143859793357073, 2.755321207686848)"
      ]
     },
     "execution_count": 241,
     "metadata": {},
     "output_type": "execute_result"
    }
   ],
   "source": [
    "(dist_arr.mean(), dist_arr.std())  # Throw out 16kpc or above"
   ]
  },
  {
   "cell_type": "code",
   "execution_count": 339,
   "id": "4fa13276",
   "metadata": {},
   "outputs": [
    {
     "data": {
      "text/plain": [
       "4.84813681109536e-06"
      ]
     },
     "execution_count": 339,
     "metadata": {},
     "output_type": "execute_result"
    }
   ],
   "source": [
    "lt.arcsec"
   ]
  },
  {
   "cell_type": "code",
   "execution_count": 340,
   "id": "843be36e",
   "metadata": {},
   "outputs": [
    {
     "data": {
      "text/plain": [
       "0.10812038047985027"
      ]
     },
     "execution_count": 340,
     "metadata": {},
     "output_type": "execute_result"
    }
   ],
   "source": [
    "4.6e9 * lt.arcsec**2"
   ]
  },
  {
   "cell_type": "code",
   "execution_count": 343,
   "id": "483b4c43",
   "metadata": {},
   "outputs": [
    {
     "data": {
      "text/plain": [
       "array([[0., 0., 0., ..., 0., 0., 0.],\n",
       "       [0., 0., 0., ..., 0., 0., 0.],\n",
       "       [0., 0., 0., ..., 0., 0., 0.],\n",
       "       ...,\n",
       "       [0., 0., 0., ..., 0., 0., 0.],\n",
       "       [0., 0., 0., ..., 0., 0., 0.],\n",
       "       [0., 0., 0., ..., 0., 0., 0.]])"
      ]
     },
     "execution_count": 343,
     "metadata": {},
     "output_type": "execute_result"
    }
   ],
   "source": [
    "out[0]"
   ]
  },
  {
   "cell_type": "code",
   "execution_count": 301,
   "id": "5f83e7ed",
   "metadata": {},
   "outputs": [
    {
     "data": {
      "text/plain": [
       "Text(0.5, 1.0, 'bin area = .1 mas x .1 mas')"
      ]
     },
     "execution_count": 301,
     "metadata": {},
     "output_type": "execute_result"
    },
    {
     "data": {
      "image/png": "[encoded data removed]",
      "text/plain": [
       "<Figure size 432x288 with 1 Axes>"
      ]
     },
     "metadata": {
      "needs_background": "light"
     },
     "output_type": "display_data"
    }
   ],
   "source": [
    "out = np.histogram2d(ra_arr, dec_arr, bins=100)\n",
    "# np.sort(out[0].flatten())[-5:]\n",
    "# print('widths:', np.diff(out[1])[0], np.diff(out[2])[0])\n",
    "\n",
    "mas_area = np.diff(out[1])[0] * np.diff(out[2])[0]\n",
    "data = np.sort(out[0].flatten())[-200:]/mas_area * .1**2  # to convert to .1 x .1 max box\n",
    "plt.plot(np.flipud(data))  # scale up to 1e9 sources\n",
    "plt.yscale('log')\n",
    "plt.xlabel('nth largest bin')\n",
    "plt.ylabel('\\# sources in bin [$10^3$ sources]')\n",
    "plt.title('bin area = .1 mas x .1 mas')"
   ]
  },
  {
   "cell_type": "code",
   "execution_count": 322,
   "id": "24904330",
   "metadata": {},
   "outputs": [
    {
     "name": "stdout",
     "output_type": "stream",
     "text": [
      "3.9938764717593624\n",
      "4.286415859985453\n"
     ]
    },
    {
     "data": {
      "image/png": "[encoded data removed]",
      "text/plain": [
       "<Figure size 720x360 with 2 Axes>"
      ]
     },
     "metadata": {
      "needs_background": "light"
     },
     "output_type": "display_data"
    }
   ],
   "source": [
    "# a,b = np.histogram(scnow.distance.value[scnow.distance.value<3000], bins=200, density=True)\n",
    "\n",
    "# a,b = np.histogram(dist_arr, bins=200)\n",
    "# x = (b[1:] + b[:-1])/2\n",
    "# b_width = np.diff(b)[0]\n",
    "# plt.bar(x, a, b_width)\n",
    "# plt.xlabel('Distance [kpc]')\n",
    "# plt.ylabel('Frequency')\n",
    "# plt.title('Distribution of Gaia DR2 Star Distances')\n",
    "\n",
    "f, axarr = plt.subplots(1,2,figsize=(10,5))\n",
    "\n",
    "mask = [(pmra_arr>-20) & (pmra_arr < 15),\n",
    "        (pmdec_arr>-20) & (pmdec_arr < 10)]\n",
    "\n",
    "xlabels = ['Right Ascension proper motion [mas/yr]',\n",
    "          'Declination proper motion [mas/yr]']\n",
    "        \n",
    "for i, data in enumerate([pmra_arr, pmdec_arr]):\n",
    "    print(np.std(data[mask[i]]))\n",
    "    a,b = np.histogram(data[mask[i]], bins=100)\n",
    "    x = (b[1:] + b[:-1])/2\n",
    "    b_width = np.diff(b)[0]\n",
    "    axarr[i].bar(x, a, b_width)\n",
    "    axarr[i].set_xlabel(xlabels[i])\n",
    "    axarr[i].set_ylabel('Frequency')\n",
    "# f.title('Distribution of Gaia DR2 Star Distances')\n",
    "\n",
    "\n",
    "# window = 3\n",
    "# data = [[0,0]]\n",
    "# for i in np.arange(0,len(a),window):\n",
    "#     data.append([b[i+2], np.sum(a[i:i+window])/window])\n",
    "\n",
    "# data = np.array(data)\n",
    "\n",
    "# plt.plot(data[:,0], data[:,1], color='C1')\n",
    "\n",
    "# inv_cdf = interp1d(np.cumsum(data[:,1])*b_width*3, data[:,0], fill_value='extrapolate')\n",
    "\n",
    "# # pickle.dump(inv_cdf, open('/Users/gregoryridgway/Desktop/AstroML/data/Gaia_DR2_inv_cdf', 'wb'))\n",
    "\n",
    "# plt.axvline(150, linestyle='--', color='k')"
   ]
  },
  {
   "cell_type": "code",
   "execution_count": 324,
   "id": "b26222b3",
   "metadata": {},
   "outputs": [
    {
     "data": {
      "text/plain": [
       "1.939254724438144e-08"
      ]
     },
     "execution_count": 324,
     "metadata": {},
     "output_type": "execute_result"
    }
   ],
   "source": [
    "2 * 4e3/lt.rad_to_muas"
   ]
  },
  {
   "cell_type": "code",
   "execution_count": null,
   "id": "bcec4526",
   "metadata": {},
   "outputs": [],
   "source": [
    "np.abs()"
   ]
  },
  {
   "cell_type": "code",
   "execution_count": 347,
   "id": "69eed1d1",
   "metadata": {},
   "outputs": [
    {
     "data": {
      "text/plain": [
       "26731.91888962369"
      ]
     },
     "execution_count": 347,
     "metadata": {},
     "output_type": "execute_result"
    }
   ],
   "source": [
    "500/(1e9/(.1*4*np.pi) * lt.arcsec**2)"
   ]
  },
  {
   "cell_type": "code",
   "execution_count": 348,
   "id": "cc1ebfd5",
   "metadata": {},
   "outputs": [
    {
     "data": {
      "text/plain": [
       "5000.0"
      ]
     },
     "execution_count": 348,
     "metadata": {},
     "output_type": "execute_result"
    }
   ],
   "source": [
    "500/(.1)"
   ]
  },
  {
   "cell_type": "code",
   "execution_count": 354,
   "id": "a8dcc414",
   "metadata": {},
   "outputs": [
    {
     "data": {
      "text/plain": [
       "4.84813681109536e-06"
      ]
     },
     "execution_count": 354,
     "metadata": {},
     "output_type": "execute_result"
    }
   ],
   "source": [
    "lt.arcsec"
   ]
  },
  {
   "cell_type": "code",
   "execution_count": 361,
   "id": "79d40fbf",
   "metadata": {},
   "outputs": [],
   "source": [
    "b = 1 * 3 * lt.arcsec  # in kpc\n",
    "M = 1e7  # in M_sol\n",
    "\n",
    "dTheta = 4 * lt.G_N * 1e7 / b / lt.c**2. # rad"
   ]
  },
  {
   "cell_type": "code",
   "execution_count": null,
   "id": "c6216921",
   "metadata": {},
   "outputs": [],
   "source": []
  },
  {
   "cell_type": "code",
   "execution_count": 357,
   "id": "d28e644f",
   "metadata": {},
   "outputs": [
    {
     "data": {
      "text/plain": [
       "1.454441043328608e-05"
      ]
     },
     "execution_count": 357,
     "metadata": {},
     "output_type": "execute_result"
    }
   ],
   "source": [
    "1 * 3 * lt.arcsec"
   ]
  },
  {
   "cell_type": "code",
   "execution_count": 341,
   "id": "744304a4",
   "metadata": {},
   "outputs": [
    {
     "data": {
      "text/plain": [
       "Text(0, 0.5, 'Declination [mas]')"
      ]
     },
     "execution_count": 341,
     "metadata": {},
     "output_type": "execute_result"
    },
    {
     "data": {
      "image/png": "[encoded data removed]",
      "text/plain": [
       "<Figure size 432x288 with 1 Axes>"
      ]
     },
     "metadata": {
      "needs_background": "light"
     },
     "output_type": "display_data"
    }
   ],
   "source": [
    "ra_mask = (ra_arr>200) #& (ra_arr<300)\n",
    "# dec_mask = (dec_arr>200) & (dec_arr<300)\n",
    "plt.hist2d(ra_arr[ra_mask],dec_arr[ra_mask], bins=100)\n",
    "plt.xlabel('Right Ascension [mas]')\n",
    "plt.ylabel('Declination [mas]')"
   ]
  },
  {
   "cell_type": "code",
   "execution_count": 136,
   "id": "4d028646",
   "metadata": {},
   "outputs": [],
   "source": [
    "tmp = np.array(list(map(norm,scnow.galactocentric.cartesian.xyz.T.value)))\n",
    "msk = tmp<6500\n",
    "\n",
    "# msk = (np.arange(len(scnow))%110 == 0)\n",
    "\n",
    "mag = mag[msk]\n",
    "scnow = scnow[msk]"
   ]
  },
  {
   "cell_type": "markdown",
   "id": "7df9c750",
   "metadata": {},
   "source": [
    "# Archive"
   ]
  },
  {
   "cell_type": "markdown",
   "id": "cd044192",
   "metadata": {},
   "source": [
    "Sample from a sphere:\n",
    "\n",
    "$$\n",
    "\\begin{alignat}{1}\n",
    "1 &= \\frac3{4\\pi R^3} \\int d^3x \\; \\theta(R - |x|) \\\\\n",
    "&= \\int_0^R dr \\; \\frac{3r^2}{R^3} \\int_0^{2\\pi} \\frac{d\\phi}{2\\pi} \\; \\int_{-1}^{1} \\frac{d\\cos \\theta}{2} \\\\\n",
    "&= \\int_0^1 d\\left( \\frac{r}{R}\\right)^3 \\int_0^{2\\pi} \\frac{d\\phi}{2\\pi} \\; \\int_{-1}^{1} \\frac{d\\mu}{2}\n",
    "\\end{alignat}\n",
    "$$\n",
    "\n",
    "where $\\mu = \\cos(\\theta)$."
   ]
  },
  {
   "cell_type": "markdown",
   "id": "3922e188",
   "metadata": {},
   "source": [
    "$$ \\Delta \\theta = -\\left( 1- \\frac{D_l}{D_s} \\right) \\frac{4G_N M(b_{ls})}{b_{ls}} \\hat{b}_{ls} $$"
   ]
  },
  {
   "cell_type": "code",
   "execution_count": null,
   "id": "7840a5e3",
   "metadata": {},
   "outputs": [],
   "source": [
    "## Variables for Lensing formula\n",
    "\n",
    "# Gaia's origin\n",
    "icrs_origin = coord.SkyCoord(ra=0 * u.deg, dec=0 * u.deg, distance=0 * u.kpc)\n",
    "x_0 = (\n",
    "    icrs_origin.transform_to(coord.Galactocentric).cartesian.xyz/u.km\n",
    ").decompose().value\n",
    "\n",
    "# lens distance from observer\n",
    "D_l = np.array(list(map(norm, x_lens-x_0)))\n",
    "\n",
    "# Directions to lens\n",
    "def normalize(vec):\n",
    "    return vec/norm(vec)\n",
    "\n",
    "direcs = np.array(list(map(normalize, x_lens-x_0)))\n",
    "\n",
    "# matrix of source distances along lens lines of sights\n",
    "#   row:    lens\n",
    "#   column: source\n",
    "\n",
    "D_s = mult(direcs, (x_srcs-x_0).T)\n",
    "\n",
    "\n",
    "# Matrix of impact parameters\n",
    "b = np.zeros((x_lens.shape[0], x_srcs.shape[0]))\n",
    "\n",
    "for l, n_l in enumerate(direcs):\n",
    "    for s, x_s in enumerate(x_srcs-x_0):\n",
    "        b_vec = x_s - np.dot(n_l, x_s) * n_l\n",
    "        b[l][s] = norm(b_vec)\n",
    "\n",
    "# Consistency Check: right triangle for any source-lens pair\n",
    "# for l in np.arange(direcs.shape[0]):\n",
    "#     print((b[l][s]**2 + D_s[l][s]**2)/norm(x_srcs[s])**2)\n",
    "\n",
    "\n",
    "# Note: If we used a halo we'd compute M(b) for a src-lens pair here."
   ]
  },
  {
   "cell_type": "code",
   "execution_count": null,
   "id": "0f050724",
   "metadata": {},
   "outputs": [],
   "source": [
    "# Matrix of Deflections\n",
    "dTheta = np.zeros((x_lens.shape[0], x_srcs.shape[0]))\n",
    "\n",
    "for l, n_l in enumerate(direcs):\n",
    "    for s, src in enumerate(x_srcs):\n",
    "\n",
    "        # The source needs to be further from the lens\n",
    "        # This also accounts for sources being on the wrong side of the lens\n",
    "        if D_s[l][s] > D_l[l]:\n",
    "\n",
    "            # in micro arcseconds\n",
    "            dTheta[l][s] = -(1-D_l[l]/D_s[l][s]) * 4*G_N * M_co/b[l][s] / c_light**2 / mu_as"
   ]
  },
  {
   "cell_type": "code",
   "execution_count": null,
   "id": "c925a2a1",
   "metadata": {},
   "outputs": [],
   "source": [
    "from astropy.time import Time\n",
    "\n",
    "icrs_origin = coord.SkyCoord(\n",
    "    ra=.00001 * u.deg, dec=.00001 * u.deg, distance=1e-12 * u.kpc,\n",
    "    pm_ra_cosdec=0*u.mas/u.yr, pm_dec=0*u.mas/u.yr, radial_velocity = 0 * u.km/u.yr,\n",
    "    obstime=Time('1988-12-18 05:11:23.5')\n",
    ")\n",
    "\n",
    "# (icrs_origin.transform_to(coord.Galactocentric).cartesian.xyz/u.kpc).decompose().value\n",
    "# coord.Galactocentric().frame_attribute_references"
   ]
  },
  {
   "cell_type": "code",
   "execution_count": null,
   "id": "2585199c",
   "metadata": {},
   "outputs": [],
   "source": [
    "%autoreload\n",
    "observer = lt.Observer()\n",
    "\n",
    "# Import the inverse cdf of the distances from Gaia DR2 sources\n",
    "inv_cdf = pickle.load(open('/Users/gregoryridgway/Desktop/AstroML/data/Gaia_DR2_inv_cdf', 'rb'))\n",
    "\n",
    "sources = lt.Sources(\n",
    "    x = lt.sample(N_s, scale=1*u.pc, method='custom_sphere', inv_cdf=inv_cdf),\n",
    "    v = lt.sample(N_s, scale=u.km/u.s, method='normal')\n",
    ")\n",
    "\n",
    "# Now pick a source and make random lenses wrt to it.\n",
    "\n"
   ]
  },
  {
   "cell_type": "code",
   "execution_count": null,
   "id": "f1631736",
   "metadata": {},
   "outputs": [],
   "source": [
    "%autoreload\n",
    "observer = lt.Observer()\n",
    "\n",
    "lenses = lt.Lenses(\n",
    "    x = lt.sample('uniform_sphere', N_l, scale=10*u.kpc),\n",
    "    v = lt.sample('normal', N_l, scale=100*u.km/u.s),\n",
    "    M = M_co\n",
    ")\n",
    "\n",
    "# Now pick a lens and make random sources wrt to it."
   ]
  }
 ],
 "metadata": {
  "interpreter": {
   "hash": "aee8b7b246df8f9039afb4144a1f6fd8d2ca17a180786b69acc140d282b71a49"
  },
  "kernelspec": {
   "display_name": "Python 3 (ipykernel)",
   "language": "python",
   "name": "python3"
  },
  "language_info": {
   "codemirror_mode": {
    "name": "ipython",
    "version": 3
   },
   "file_extension": ".py",
   "mimetype": "text/x-python",
   "name": "python",
   "nbconvert_exporter": "python",
   "pygments_lexer": "ipython3",
   "version": "3.9.5"
  }
 },
 "nbformat": 4,
 "nbformat_minor": 5
}
