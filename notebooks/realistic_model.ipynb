{
 "cells": [
  {
   "cell_type": "markdown",
   "metadata": {},
   "source": [
    "Constructing a realistic model."
   ]
  },
  {
   "cell_type": "code",
   "execution_count": 372,
   "metadata": {},
   "outputs": [
    {
     "name": "stdout",
     "output_type": "stream",
     "text": [
      "The autoreload extension is already loaded. To reload it, use:\n",
      "  %reload_ext autoreload\n"
     ]
    }
   ],
   "source": [
    "# Convenience\n",
    "import sys\n",
    "sys.path.append('..')\n",
    "import numpy as np\n",
    "from tqdm.notebook import tqdm\n",
    "import astropy.units as u\n",
    "import pickle\n",
    "\n",
    "%load_ext autoreload\n",
    "%autoreload 2\n",
    "\n",
    "# Math\n",
    "from scipy.stats import shapiro\n",
    "pi = np.pi\n",
    "uni = np.random.uniform\n",
    "\n",
    "# Plotting\n",
    "import matplotlib.pyplot as plt\n",
    "import matplotlib.pylab as pylab\n",
    "import warnings\n",
    "import matplotlib.cbook\n",
    "from plot_params import params\n",
    "warnings.filterwarnings(\"ignore\",category=matplotlib.cbook.mplDeprecation)\n",
    "pylab.rcParams.update(params)\n",
    "cols_default = plt.rcParams['axes.prop_cycle'].by_key()['color']\n",
    "plt.rcParams[\"text.usetex\"] = False\n",
    "\n",
    "import logging\n",
    "logging.getLogger().setLevel(logging.CRITICAL)\n",
    "\n",
    "# ML\n",
    "import torch\n",
    "import torch.nn as nn\n",
    "import torch.nn.functional as F\n",
    "import torch.utils.data as data\n",
    "import torch.optim as optim\n",
    "from einops import rearrange\n",
    "\n",
    "from torch.utils.data import TensorDataset, DataLoader, random_split, SubsetRandomSampler\n",
    "import pytorch_lightning as pl\n",
    "from pytorch_lightning.callbacks import LearningRateMonitor, ModelCheckpoint, EarlyStopping\n",
    "\n",
    "from models.networks import build_mlp, build_maf\n",
    "from models.sets import DeepSetLSTM, SetTransformerLSTM\n",
    "from models.spatio_temporal import SpatioTemporalLSTM\n",
    "\n",
    "from sklearn.metrics import roc_curve, auc\n",
    "\n",
    "# Greg's Model\n",
    "import lenstools as lt\n",
    "from lenstools import nrm\n",
    "\n",
    "# Sid's Model\n",
    "from units import *\n",
    "from astrosim import AstrometricSim"
   ]
  },
  {
   "cell_type": "code",
   "execution_count": 2,
   "metadata": {},
   "outputs": [],
   "source": [
    "# histogram\n",
    "\n",
    "def get_hist(data, bins=100, ran=None, xlabel='', title='', alpha=1):\n",
    "    if ran is None:\n",
    "        a,b = np.histogram(data, bins=bins, density=True)\n",
    "    else:\n",
    "        a,b = np.histogram(data, bins, ran, density=True)\n",
    "        \n",
    "    x = (b[1:] + b[:-1])/2\n",
    "    b_width = np.diff(b)[0]\n",
    "    plt.bar(x, a, b_width, alpha=alpha)\n",
    "    plt.xlabel(xlabel, fontsize=16)\n",
    "    plt.ylabel('Frequency', fontsize=16)\n",
    "    plt.title(title, fontsize=20)"
   ]
  },
  {
   "cell_type": "markdown",
   "metadata": {},
   "source": [
    "# Networks"
   ]
  },
  {
   "cell_type": "code",
   "execution_count": 3,
   "metadata": {},
   "outputs": [],
   "source": [
    "class MultiBlipClassifier(pl.LightningModule):\n",
    "\n",
    "    def __init__(self, dim_summary=96):\n",
    "        \"\"\" Lightning module\n",
    "        \"\"\"\n",
    "        super().__init__()\n",
    "        self.deepset = DeepSetLSTM()\n",
    "        self.spatio_temporal = SpatioTemporalLSTM(dim_hidden=dim_summary)\n",
    "        self.mlp_y_hat = build_mlp(input_dim=int(2 * dim_summary),\n",
    "                                   hidden_dim=int(2 * dim_summary),\n",
    "                                   output_dim=1, layers=4)\n",
    "#         self.deepset = SetTransformerLSTM(num_outputs=1, dim_output=1)\n",
    "\n",
    "    def configure_optimizers(self):\n",
    "        \n",
    "        optimizer = optim.AdamW(self.parameters(), lr=3e-4, weight_decay=1e-5)\n",
    "        scheduler = torch.optim.lr_scheduler.ReduceLROnPlateau(optimizer, patience=4)\n",
    "        \n",
    "        return {\"optimizer\": optimizer, \n",
    "                \"lr_scheduler\": {\n",
    "                    \"scheduler\": scheduler,\n",
    "                    \"interval\": \"epoch\",\n",
    "                    \"monitor\": \"val_loss\",\n",
    "                    \"frequency\": 1}\n",
    "                }\n",
    "    \n",
    "    def training_step(self, batch, batch_idx):\n",
    "        x, y = batch\n",
    "#         y_hat = self.deepset(x)[:, 0]\n",
    "        out = self.spatio_temporal(x)\n",
    "        y_hat = self.mlp_y_hat(out)[:, 0]\n",
    "        # GR: Binary cross-entropy loss function, essentially \\sum_{two classes} x log y\n",
    "        #    With logits means applying sigmoid before applying loss function\n",
    "        #    You know something wrong when the loss is log(2) = .693\n",
    "\n",
    "        loss = nn.BCEWithLogitsLoss(reduction='mean')(y_hat, y)\n",
    "        self.log('train_loss', loss)\n",
    "        return loss\n",
    "\n",
    "    def validation_step(self, batch, batch_idx):\n",
    "        x, y = batch\n",
    "        out = self.spatio_temporal(x)\n",
    "        y_hat = self.mlp_y_hat(out)[:, 0]\n",
    "#         y_hat = self.deepset(x)[:, 0]\n",
    "        loss = nn.BCEWithLogitsLoss(reduction='mean')(y_hat, y)\n",
    "        self.log('val_loss', loss)\n",
    "        return loss"
   ]
  },
  {
   "cell_type": "markdown",
   "metadata": {},
   "source": [
    "# Parameters"
   ]
  },
  {
   "cell_type": "code",
   "execution_count": 520,
   "metadata": {},
   "outputs": [],
   "source": [
    "Gaia_flag = True\n",
    "\n",
    "# Gaia properties\n",
    "if Gaia_flag:\n",
    "    n_dens = 4.6e9 # objects per radian^2, 1804.01991 Table 1\n",
    "    std_error = 100 / lt.rad_to_muas  # measurement error, 1609.04153 section 6.5 2nd to last paragraph\n",
    "\n",
    "# Observation properties\n",
    "N_train = int(16)  # training set size\n",
    "N_temporal = 10  # number of temporal observations\n",
    "N_obj = 20  # number of objects we want to see in an image\n",
    "parallax = False  # include parallax of observer\n",
    "dt = 1.  # yrs\n",
    "\n",
    "# lens properties\n",
    "kind = 'point'  # type of lens\n",
    "M_lens = 1e3  # mass of lenses\n",
    "R_lens = None\n",
    "\n",
    "D_lens_max = 0.1\n",
    "v_scale = lt.v_esc/5\n",
    "\n",
    "rho_DM = .008 *1e9  # local mass density of DM, https://arxiv.org/abs/1205.4033, M_sol/kpc**3\n",
    "\n",
    "# Disk properties\n",
    "R_disk = 3.\n",
    "D_disk = 8."
   ]
  },
  {
   "cell_type": "code",
   "execution_count": 521,
   "metadata": {},
   "outputs": [],
   "source": [
    "# !!! Is there an optimal N_obj?\n",
    "# If 2, p(multiblip) small.\n",
    "# If 20, p(multiblip) bigger, but some tradeoff (complicated network, fewer patches in the sky...)\n",
    "\n",
    "# !!! How close can I assume lenses are?"
   ]
  },
  {
   "cell_type": "code",
   "execution_count": 522,
   "metadata": {},
   "outputs": [],
   "source": [
    "# Derived\n",
    "\n",
    "A_angle = N_obj/n_dens  # angular area required to see n_obj objects\n",
    "l_angle = np.sqrt(A_angle)  # Side length of square image\n",
    "\n",
    "n_lens = rho_DM/M_lens  # number density of DM\n",
    "\n",
    "theta_disk_max = np.arcsin(R_disk/D_disk)"
   ]
  },
  {
   "cell_type": "code",
   "execution_count": 523,
   "metadata": {},
   "outputs": [],
   "source": [
    "# probability of being x away, but in frame: ~x^2 dx => F(x) = (x/R)^3\n",
    "# where R is the maximum distance away.\n",
    "# To sample, set x = R U^(1/3), where U is sampled uniformly"
   ]
  },
  {
   "cell_type": "code",
   "execution_count": 524,
   "metadata": {},
   "outputs": [],
   "source": [
    "def uniform_frame_angles(D):\n",
    "    \"\"\"place lenses uniformly in frame\"\"\" \n",
    "    \n",
    "    angles = np.random.uniform(-l_angle, l_angle, (len(D),2)) + [pi/2,0]  # theta, phi\n",
    "    \n",
    "    x = D * np.sin(angles[:,0]) * np.cos(angles[:,1])\n",
    "    y = D * np.sin(angles[:,0]) * np.sin(angles[:,1])\n",
    "    z = D * np.cos(angles[:,0])\n",
    "\n",
    "    return np.transpose([x,y,z])"
   ]
  },
  {
   "cell_type": "code",
   "execution_count": 525,
   "metadata": {},
   "outputs": [],
   "source": [
    "# !!! Should I allow lenses to come from outside of a frame into it?\n",
    "\n",
    "# y_lens = np.random.choice([0,1], size=N_train)\n",
    "y_lens = np.ones(N_train)\n",
    "\n",
    "# place lenses uniformly in the pyramid starting at the observer\n",
    "# and ending at D_lens_max\n",
    "D_lens = D_lens_max * uni(0,1,N_train)**(1/3)\n",
    "\n",
    "x = uniform_frame_angles(D_lens)\n",
    "v = np.random.normal(scale=v_scale, size=(N_train, 3))\n",
    "lenses = lt.Lenses(\n",
    "    np.repeat(x, N_obj, axis=0), # repeat so that every source has an associated lens\n",
    "    np.repeat(v, N_obj, axis=0), \n",
    "    kind, \n",
    "    M_lens * np.repeat(y_lens, N_obj, axis=0), \n",
    "    R_lens\n",
    ")"
   ]
  },
  {
   "cell_type": "code",
   "execution_count": 526,
   "metadata": {},
   "outputs": [],
   "source": [
    "# model the disk as a perfect disk.\n",
    "# Randomly view it, i.e. draw a ray through it from the observer\n",
    "# and randomly place sources on it along the ray\n",
    "theta_view = uni(-theta_disk_max, theta_disk_max, N_train)\n",
    "beta_view = np.arcsin(D_disk*np.sin(theta_view)/R_disk)\n",
    "alpha_view = beta_view - theta_view + pi\n",
    "D_view_min = np.abs(R_disk * np.sin(alpha_view)/np.sin(theta_view))\n",
    "D_view_max = D_view_min + 2 * np.sqrt(R_disk**2 - (D_disk * np.sin(theta_view))**2)\n",
    "\n",
    "D_src = []\n",
    "for i in range(N_obj):\n",
    "    D_src.append(uni(D_view_min, D_view_max))\n",
    "    \n",
    "D_src = np.transpose(D_src).flatten()  # flatten frame-star dimensions\n",
    "\n",
    "x = uniform_frame_angles(D_src)\n",
    "v = np.random.normal(scale=v_scale, size=(N_train*N_obj, 3))\n",
    "sources = lt.Sources(x, v)\n",
    "\n",
    "# min(D_view_min), max(D_view_max)  # should range in D_disk +/- R_disk"
   ]
  },
  {
   "cell_type": "code",
   "execution_count": 595,
   "metadata": {
    "collapsed": true
   },
   "outputs": [
    {
     "name": "stdout",
     "output_type": "stream",
     "text": [
      "2687.7692065559645 [4.14673162e-10 1.97755134e-10 3.20527683e-10 4.01994403e-10\n",
      " 2.65585398e-10 2.14265866e-10 3.54217110e-10 1.66127146e-10\n",
      " 3.42509928e-10 3.90986203e-10 2.09499109e-10 2.19839511e-10\n",
      " 4.31805094e-10 2.83917436e-10 3.60572653e-10 2.94752252e-10\n",
      " 2.97823606e-10 2.06619365e-10 3.06287017e-10 4.55301893e-09]\n",
      "2687.7692065559645 [4.14673162e-10 1.97755134e-10 3.20527683e-10 4.01994403e-10\n",
      " 2.65585398e-10 2.14265866e-10 3.54217110e-10 1.66127146e-10\n",
      " 3.42509928e-10 3.90986203e-10 2.09499109e-10 2.19839511e-10\n",
      " 4.31805094e-10 2.83917436e-10 3.60572653e-10 2.94752252e-10\n",
      " 2.97823606e-10 2.06619365e-10 3.06287017e-10 4.55301893e-09]\n",
      "1270.34968372634 [4.29388445e-10 2.03713824e-10 3.27793427e-10 4.16858719e-10\n",
      " 2.65017807e-10 2.22076247e-10 3.61249181e-10 1.69867040e-10\n",
      " 3.52550372e-10 4.05075115e-10 2.13891608e-10 2.26103826e-10\n",
      " 4.38831240e-10 2.96299522e-10 3.64069746e-10 3.03052085e-10\n",
      " 3.05392472e-10 2.10194099e-10 3.05245663e-10 3.47396271e-09]\n",
      "860.5775972677654 [4.44957696e-10 2.10041053e-10 3.35178766e-10 4.32035303e-10\n",
      " 2.64129115e-10 2.30444074e-10 3.67971204e-10 1.73748754e-10\n",
      " 3.63098161e-10 4.20177320e-10 2.18439894e-10 2.32692544e-10\n",
      " 4.44841298e-10 3.09807181e-10 3.66789578e-10 3.11788952e-10\n",
      " 3.13283491e-10 2.13734596e-10 3.03885204e-10 2.63386340e-09]\n",
      "805.9395745706071 [4.61424612e-10 2.16771929e-10 3.42661589e-10 4.47368765e-10\n",
      " 2.62928995e-10 2.39426783e-10 3.74297566e-10 1.77777914e-10\n",
      " 3.74181600e-10 4.36401039e-10 2.23149855e-10 2.39626996e-10\n",
      " 4.49689200e-10 3.24600623e-10 3.68676572e-10 3.20993822e-10\n",
      " 3.21510584e-10 2.17222530e-10 3.02218523e-10 2.07566647e-09]\n",
      "841.3008107603866 [4.78828259e-10 2.23946140e-10 3.50214954e-10 4.62654971e-10\n",
      " 2.61430233e-10 2.49089137e-10 3.80139004e-10 1.81960105e-10\n",
      " 3.85829203e-10 4.53869521e-10 2.28027373e-10 2.46929712e-10\n",
      " 4.53249089e-10 3.40871853e-10 3.69690859e-10 3.30699999e-10\n",
      " 3.30087403e-10 2.20637876e-10 3.00260985e-10 1.69826684e-09]\n",
      "1082.7470448234885 [4.97199853e-10 2.31608725e-10 3.57806602e-10 4.77636569e-10\n",
      " 2.59648363e-10 2.59504205e-10 3.85405155e-10 1.86300784e-10\n",
      " 3.98069121e-10 4.72723519e-10 2.33078251e-10 2.54624349e-10\n",
      " 4.55423810e-10 3.58852929e-10 3.69810557e-10 3.40943203e-10\n",
      " 3.39027018e-10 2.23959009e-10 2.98030062e-10 1.43147248e-09]\n",
      "2582.2703443890864 [5.16558429e-10 2.39810995e-10 3.65398537e-10 4.92002252e-10\n",
      " 2.57601238e-10 2.70754439e-10 3.90007652e-10 1.90805184e-10\n",
      " 4.10928355e-10 4.93124188e-10 2.38308134e-10 2.62735534e-10\n",
      " 4.56151990e-10 3.78826922e-10 3.69033074e-10 3.51761613e-10\n",
      " 3.48341540e-10 2.27162875e-10 2.95544926e-10 1.23468968e-09]\n",
      "2814.079116692333 [5.36905130e-10 2.48611665e-10 3.72946684e-10 5.05391869e-10\n",
      " 2.55308566e-10 2.82932794e-10 3.93863641e-10 1.95478183e-10\n",
      " 4.24431690e-10 5.15256471e-10 2.43722408e-10 2.71288630e-10\n",
      " 4.55412738e-10 4.01142673e-10 3.67375250e-10 3.63195841e-10\n",
      " 3.58041629e-10 2.30225238e-10 2.92826027e-10 1.08427535e-09]\n",
      "1139.6536061693146 [5.58215831e-10 2.58078218e-10 3.80400702e-10 5.17409387e-10\n",
      " 2.52791422e-10 2.96143838e-10 3.96899502e-10 2.00324147e-10\n",
      " 4.38600294e-10 5.39333022e-10 2.49326072e-10 2.80309366e-10\n",
      " 4.53227288e-10 4.26234932e-10 3.64872366e-10 3.75288823e-10\n",
      " 3.68135881e-10 2.33121003e-10 2.89894682e-10 9.65889576e-10]\n",
      "1115.861338956077 [5.80431885e-10 2.68288604e-10 3.87703987e-10 5.27644924e-10\n",
      " 2.50071774e-10 3.10504731e-10 3.99054485e-10 2.05346738e-10\n",
      " 4.53449877e-10 5.65598681e-10 2.55123587e-10 2.89823306e-10\n",
      " 4.49657330e-10 4.54652335e-10 3.61576102e-10 3.88085561e-10\n",
      " 3.78630068e-10 2.35824620e-10 2.86772669e-10 8.70444761e-10]\n"
     ]
    }
   ],
   "source": [
    "%autoreload\n",
    "\n",
    "O = lt.Observer(parallax=parallax)\n",
    "data = [pi/2,0] - O.observe(sources, lenses, N=N_temporal, dt=dt)*[1,-1]\n",
    "data = data.reshape(N_train, N_obj, N_temporal, 2)\n",
    "\n",
    "# # Add error\n",
    "# data_err = np.random.normal(loc=0, scale=std_error, size=(data.shape))\n",
    "# data += data_err\n",
    "\n",
    "x = torch.Tensor(data)\n",
    "y = torch.Tensor(y_lens)"
   ]
  },
  {
   "cell_type": "markdown",
   "metadata": {},
   "source": [
    "# Viz"
   ]
  },
  {
   "cell_type": "code",
   "execution_count": 753,
   "metadata": {},
   "outputs": [
    {
     "data": {
      "application/vnd.jupyter.widget-view+json": {
       "model_id": "16b4b8b2243d45f4af332ac96cce6edc",
       "version_major": 2,
       "version_minor": 0
      },
      "text/plain": [
       "  0%|          | 0/16 [00:00<?, ?it/s]"
      ]
     },
     "metadata": {},
     "output_type": "display_data"
    },
    {
     "data": {
      "image/png": "[encoded data removed]",
      "text/plain": [
       "<Figure size 720x720 with 16 Axes>"
      ]
     },
     "metadata": {
      "needs_background": "light"
     },
     "output_type": "display_data"
    }
   ],
   "source": [
    "from matplotlib.gridspec import GridSpec\n",
    "\n",
    "fig = plt.figure(figsize=(10, 10))\n",
    "\n",
    "gs = GridSpec(4, 4)\n",
    "\n",
    "lens_pos = [pi/2, 0] - O.observe(lenses, N=N_temporal, dt=dt)[::N_obj]*[1,-1]\n",
    "\n",
    "ind = 0\n",
    "offset = (ind-1)*16\n",
    "for i in tqdm(range(16)):\n",
    "    \n",
    "    ax = fig.add_subplot(gs[i])\n",
    "\n",
    "    for j, x_i in enumerate(x[offset + i]):\n",
    "        ax.scatter(x_i[:,0], x_i[:,1], color='forestgreen', s=0.2)\n",
    "    \n",
    "    # 17 and 16 are in circle\n",
    "    if y[offset + i]:\n",
    "#         print(lt.nrm(lenses.x[::N_obj][offset+i]), lt.nrm(lenses.v[::N_obj][offset+i]))\n",
    "        label = \"{:.2f}, {:.2f}\".format(*(lens_pos[offset + i][-1]-lens_pos[offset + i][0])/lt.arcsec)\n",
    "        ax.scatter(lens_pos[offset + i][:,0], lens_pos[offset + i][:,1])\n",
    "        \n",
    "        area_of_influence1 = plt.Circle((lens_pos[offset + i][0,0],\n",
    "                                        lens_pos[offset + i][0,1]), \n",
    "                                       4*lt.G_N*M_lens/(D_disk * std_error * lt.c**2), fill = False)\n",
    "        \n",
    "        area_of_influence2 = plt.Circle((lens_pos[offset + i][-1,0],\n",
    "                                        lens_pos[offset + i][-1,1]), \n",
    "                                       4*lt.G_N*M_lens/(D_disk * std_error * lt.c**2), fill = False, linestyle='--')\n",
    "        \n",
    "        ax.add_artist(area_of_influence1)\n",
    "        ax.add_artist(area_of_influence2)\n",
    "        \n",
    "        ax.legend(title=label)\n",
    "        \n",
    "        \n",
    "    ax.axes.xaxis.set_visible(False)\n",
    "    ax.axes.yaxis.set_visible(False)"
   ]
  },
  {
   "cell_type": "markdown",
   "metadata": {},
   "source": [
    "# Time-series deep set model"
   ]
  },
  {
   "cell_type": "markdown",
   "metadata": {},
   "source": [
    "# Classification"
   ]
  },
  {
   "cell_type": "code",
   "execution_count": 119,
   "metadata": {},
   "outputs": [
    {
     "name": "stderr",
     "output_type": "stream",
     "text": [
      "GPU available: False, used: False\n",
      "TPU available: False, using: 0 TPU cores\n",
      "IPU available: False, using: 0 IPUs\n",
      "\n",
      "  | Name            | Type               | Params\n",
      "-------------------------------------------------------\n",
      "0 | deepset         | DeepSetLSTM        | 1.1 M \n",
      "1 | spatio_temporal | SpatioTemporalLSTM | 70.8 K\n",
      "2 | mlp_y_hat       | Sequential         | 5.3 K \n",
      "-------------------------------------------------------\n",
      "1.2 M     Trainable params\n",
      "0         Non-trainable params\n",
      "1.2 M     Total params\n",
      "4.872     Total estimated model params size (MB)\n"
     ]
    },
    {
     "data": {
      "application/vnd.jupyter.widget-view+json": {
       "model_id": "",
       "version_major": 2,
       "version_minor": 0
      },
      "text/plain": [
       "Validation sanity check: 0it [00:00, ?it/s]"
      ]
     },
     "metadata": {},
     "output_type": "display_data"
    },
    {
     "name": "stderr",
     "output_type": "stream",
     "text": [
      "/usr/local/lib/python3.9/site-packages/pytorch_lightning/trainer/data_loading.py:432: UserWarning: The number of training samples (15) is smaller than the logging interval Trainer(log_every_n_steps=50). Set a lower value for log_every_n_steps if you want to see logs for the training epoch.\n",
      "  rank_zero_warn(\n"
     ]
    },
    {
     "data": {
      "application/vnd.jupyter.widget-view+json": {
       "model_id": "a770f4f042324cf2920eef4665b52645",
       "version_major": 2,
       "version_minor": 0
      },
      "text/plain": [
       "Training: 0it [00:00, ?it/s]"
      ]
     },
     "metadata": {},
     "output_type": "display_data"
    },
    {
     "data": {
      "application/vnd.jupyter.widget-view+json": {
       "model_id": "",
       "version_major": 2,
       "version_minor": 0
      },
      "text/plain": [
       "Validating: 0it [00:00, ?it/s]"
      ]
     },
     "metadata": {},
     "output_type": "display_data"
    },
    {
     "data": {
      "application/vnd.jupyter.widget-view+json": {
       "model_id": "",
       "version_major": 2,
       "version_minor": 0
      },
      "text/plain": [
       "Validating: 0it [00:00, ?it/s]"
      ]
     },
     "metadata": {},
     "output_type": "display_data"
    },
    {
     "data": {
      "application/vnd.jupyter.widget-view+json": {
       "model_id": "",
       "version_major": 2,
       "version_minor": 0
      },
      "text/plain": [
       "Validating: 0it [00:00, ?it/s]"
      ]
     },
     "metadata": {},
     "output_type": "display_data"
    },
    {
     "data": {
      "application/vnd.jupyter.widget-view+json": {
       "model_id": "",
       "version_major": 2,
       "version_minor": 0
      },
      "text/plain": [
       "Validating: 0it [00:00, ?it/s]"
      ]
     },
     "metadata": {},
     "output_type": "display_data"
    }
   ],
   "source": [
    "greg_sim = False\n",
    "\n",
    "if greg_sim:\n",
    "    xx, yy = x2, y2\n",
    "else:\n",
    "    xx,yy = x,y\n",
    "\n",
    "\n",
    "val_fraction = 0.1\n",
    "n_samples_val = int(val_fraction * len(xx))\n",
    "\n",
    "dataset = TensorDataset(xx, yy)\n",
    "\n",
    "dataset_train, dataset_val = random_split(dataset, [len(xx) - n_samples_val, n_samples_val])\n",
    "train_loader = DataLoader(dataset_train, batch_size=64, num_workers=8, pin_memory=True, shuffle=True)\n",
    "val_loader = DataLoader(dataset_val, batch_size=64, num_workers=8, pin_memory=True, shuffle=False)\n",
    "\n",
    "model = MultiBlipClassifier()\n",
    "checkpoint_callback = ModelCheckpoint(monitor=\"val_loss\")\n",
    "early_stop_callback = EarlyStopping(monitor='val_loss', patience=8)        \n",
    "lr_monitor = LearningRateMonitor(logging_interval='epoch')\n",
    "\n",
    "trainer = pl.Trainer(max_epochs=4, gpus=0, gradient_clip_val=1.,\n",
    "                     callbacks=[checkpoint_callback, early_stop_callback, lr_monitor])\n",
    "trainer.fit(model=model, train_dataloaders=train_loader, val_dataloaders=val_loader)\n",
    "model.load_from_checkpoint(checkpoint_callback.best_model_path);"
   ]
  },
  {
   "cell_type": "markdown",
   "metadata": {},
   "source": [
    "# Evaluate classification performance"
   ]
  },
  {
   "cell_type": "code",
   "execution_count": 120,
   "metadata": {},
   "outputs": [
    {
     "data": {
      "application/vnd.jupyter.widget-view+json": {
       "model_id": "29a4914d2aaa4a41b12df10770947254",
       "version_major": 2,
       "version_minor": 0
      },
      "text/plain": [
       "  0%|          | 0/2 [00:00<?, ?it/s]"
      ]
     },
     "metadata": {},
     "output_type": "display_data"
    }
   ],
   "source": [
    "model.eval()\n",
    "\n",
    "y_hat = []\n",
    "y_val = []\n",
    "for batch in tqdm(val_loader):\n",
    "    x_batch, y_batch = batch\n",
    "    y_hat.append(torch.sigmoid(model.deepset(x_batch)).to('cpu').detach().numpy())\n",
    "    y_val.append(y_batch)\n",
    "    \n",
    "y_hat = np.concatenate(y_hat)\n",
    "y_test = np.concatenate(y_val)\n",
    "\n",
    "fpr, tpr, _ = roc_curve(y_test, y_hat)\n",
    "roc_auc = auc(fpr, tpr)"
   ]
  },
  {
   "cell_type": "code",
   "execution_count": 121,
   "metadata": {},
   "outputs": [
    {
     "data": {
      "image/png": "[encoded data removed]",
      "text/plain": [
       "<Figure size 443.077x360 with 1 Axes>"
      ]
     },
     "metadata": {
      "needs_background": "light"
     },
     "output_type": "display_data"
    }
   ],
   "source": [
    "plt.plot(fpr, tpr, label=\"ROC (AUC = %0.2f)\" % roc_auc)\n",
    "plt.plot([0, 1], [0, 1], lw=2, linestyle=\"--\")\n",
    "plt.xlim([0.0, 1.0])\n",
    "plt.ylim([0.0, 1.05])\n",
    "plt.xlabel(\"False Positive Rate\")\n",
    "plt.ylabel(\"True Positive Rate\")\n",
    "plt.title(\"Lens/no-lens classification performance\")\n",
    "plt.legend(loc=\"lower right\")\n",
    "plt.show()"
   ]
  },
  {
   "cell_type": "markdown",
   "metadata": {},
   "source": [
    "# Inference"
   ]
  },
  {
   "cell_type": "code",
   "execution_count": 127,
   "metadata": {},
   "outputs": [
    {
     "ename": "NameError",
     "evalue": "name 'y_lens_prop' is not defined",
     "output_type": "error",
     "traceback": [
      "\u001b[0;31m---------------------------------------------------------------------------\u001b[0m",
      "\u001b[0;31mNameError\u001b[0m                                 Traceback (most recent call last)",
      "\u001b[0;32m/var/folders/kq/gkzlnb6576x8mxsf32v72_y00000gn/T/ipykernel_40895/1115848405.py\u001b[0m in \u001b[0;36m<module>\u001b[0;34m\u001b[0m\n\u001b[0;32m----> 1\u001b[0;31m \u001b[0my_lens_prop_mean\u001b[0m \u001b[0;34m=\u001b[0m \u001b[0my_lens_prop\u001b[0m\u001b[0;34m.\u001b[0m\u001b[0mmean\u001b[0m\u001b[0;34m(\u001b[0m\u001b[0;34m-\u001b[0m\u001b[0;36m2\u001b[0m\u001b[0;34m)\u001b[0m\u001b[0;34m\u001b[0m\u001b[0;34m\u001b[0m\u001b[0m\n\u001b[0m\u001b[1;32m      2\u001b[0m \u001b[0my_lens_prop_std\u001b[0m \u001b[0;34m=\u001b[0m \u001b[0my_lens_prop\u001b[0m\u001b[0;34m.\u001b[0m\u001b[0mstd\u001b[0m\u001b[0;34m(\u001b[0m\u001b[0;34m-\u001b[0m\u001b[0;36m2\u001b[0m\u001b[0;34m)\u001b[0m\u001b[0;34m\u001b[0m\u001b[0;34m\u001b[0m\u001b[0m\n\u001b[1;32m      3\u001b[0m \u001b[0;34m\u001b[0m\u001b[0m\n\u001b[1;32m      4\u001b[0m \u001b[0my_lens_prop\u001b[0m \u001b[0;34m=\u001b[0m \u001b[0;34m(\u001b[0m\u001b[0my_lens_prop\u001b[0m \u001b[0;34m-\u001b[0m \u001b[0my_lens_prop_mean\u001b[0m\u001b[0;34m)\u001b[0m \u001b[0;34m/\u001b[0m \u001b[0my_lens_prop_std\u001b[0m\u001b[0;34m\u001b[0m\u001b[0;34m\u001b[0m\u001b[0m\n",
      "\u001b[0;31mNameError\u001b[0m: name 'y_lens_prop' is not defined"
     ]
    }
   ],
   "source": [
    "y_lens_prop_mean = y_lens_prop.mean(-2)\n",
    "y_lens_prop_std = y_lens_prop.std(-2)\n",
    "\n",
    "y_lens_prop = (y_lens_prop - y_lens_prop_mean) / y_lens_prop_std"
   ]
  },
  {
   "cell_type": "code",
   "execution_count": 224,
   "metadata": {},
   "outputs": [
    {
     "data": {
      "text/plain": [
       "(20000, 10, 2)"
      ]
     },
     "execution_count": 224,
     "metadata": {},
     "output_type": "execute_result"
    }
   ],
   "source": [
    "data.shape"
   ]
  },
  {
   "cell_type": "code",
   "execution_count": 365,
   "metadata": {},
   "outputs": [],
   "source": [
    "y_lens_prop = torch.Tensor(y_lens_prop)"
   ]
  },
  {
   "cell_type": "code",
   "execution_count": 368,
   "metadata": {},
   "outputs": [],
   "source": [
    "val_fraction = 0.1\n",
    "n_samples_val = int(val_fraction * len(x))\n",
    "\n",
    "dataset = TensorDataset(x, y, y_lens_prop)\n",
    "\n",
    "dataset_train, dataset_val = random_split(dataset, [len(x) - n_samples_val, n_samples_val])\n",
    "train_loader = DataLoader(dataset_train, batch_size=64, num_workers=8, pin_memory=True, shuffle=True)\n",
    "val_loader = DataLoader(dataset_val, batch_size=64, num_workers=8, pin_memory=True, shuffle=False)"
   ]
  },
  {
   "cell_type": "code",
   "execution_count": 20,
   "metadata": {
    "collapsed": true
   },
   "outputs": [
    {
     "data": {
      "text/plain": [
       "MultiBlipClassifier(\n",
       "  (deepset): DeepSetLSTM(\n",
       "    (phi): LSTM(2, 64, num_layers=8, batch_first=True, bidirectional=True)\n",
       "    (phi_mlp): Sequential(\n",
       "      (0): Linear(in_features=128, out_features=256, bias=True)\n",
       "      (1): ReLU()\n",
       "      (2): Linear(in_features=256, out_features=256, bias=True)\n",
       "      (3): ReLU()\n",
       "      (4): Linear(in_features=256, out_features=256, bias=True)\n",
       "      (5): ReLU()\n",
       "      (6): Linear(in_features=256, out_features=256, bias=True)\n",
       "      (7): ReLU()\n",
       "      (8): Linear(in_features=256, out_features=256, bias=True)\n",
       "      (9): ReLU()\n",
       "      (10): Linear(in_features=256, out_features=128, bias=True)\n",
       "    )\n",
       "    (rho): Sequential(\n",
       "      (0): Linear(in_features=128, out_features=128, bias=True)\n",
       "      (1): ReLU()\n",
       "      (2): Linear(in_features=128, out_features=128, bias=True)\n",
       "      (3): ReLU()\n",
       "      (4): Linear(in_features=128, out_features=128, bias=True)\n",
       "      (5): ReLU()\n",
       "      (6): Linear(in_features=128, out_features=128, bias=True)\n",
       "      (7): ReLU()\n",
       "      (8): Linear(in_features=128, out_features=128, bias=True)\n",
       "      (9): ReLU()\n",
       "      (10): Linear(in_features=128, out_features=1, bias=True)\n",
       "    )\n",
       "  )\n",
       ")"
      ]
     },
     "execution_count": 20,
     "metadata": {},
     "output_type": "execute_result"
    }
   ],
   "source": [
    "model.eval()"
   ]
  },
  {
   "cell_type": "code",
   "execution_count": 369,
   "metadata": {},
   "outputs": [],
   "source": [
    "from models.sets import DeepSetLSTM, SetTransformerLSTM"
   ]
  },
  {
   "cell_type": "code",
   "execution_count": 370,
   "metadata": {},
   "outputs": [],
   "source": [
    "class MultiBlipInference(pl.LightningModule):\n",
    "\n",
    "    def __init__(self, output_dim=128):\n",
    "        \"\"\" Lightning module\n",
    "        \"\"\"\n",
    "        super().__init__()\n",
    "#         self.deepset = DeepSetLSTM(hidden_dim=64, output_dim=128)\n",
    "        self.deepset = SetTransformerLSTM(num_outputs=1, dim_output=128)\n",
    "        self.flow = build_maf(dim=2, num_transforms=8, context_features=64, hidden_features=128)\n",
    "        self.mlp_y_hat = build_mlp(input_dim=64, hidden_dim=128, output_dim=1, layers=3)\n",
    "        self.mlp_post = build_mlp(input_dim=64, hidden_dim=128, output_dim=64, layers=3)\n",
    "\n",
    "    def configure_optimizers(self):\n",
    "        \n",
    "        optimizer = optim.AdamW(self.parameters(), lr=3e-4, weight_decay=1e-5)\n",
    "        scheduler = torch.optim.lr_scheduler.ReduceLROnPlateau(optimizer, patience=4)\n",
    "        \n",
    "        return {\"optimizer\": optimizer, \n",
    "                \"lr_scheduler\": {\n",
    "                    \"scheduler\": scheduler,\n",
    "                    \"interval\": \"epoch\",\n",
    "                    \"monitor\": \"val_loss\",\n",
    "                    \"frequency\": 1}\n",
    "                }\n",
    "    \n",
    "    def training_step(self, batch, batch_idx):\n",
    "        x, y, y_lens = batch\n",
    "        \n",
    "        out = self.deepset(x)\n",
    "        \n",
    "        out_post, out_y_hat = torch.chunk(out, 2, -1)\n",
    "        out_post = self.mlp_post(out_post)\n",
    "        y_hat = self.mlp_y_hat(out_y_hat)[:, 0]\n",
    "        \n",
    "        loss_class = nn.BCEWithLogitsLoss()(y_hat, y).mean()\n",
    "        loss_post = -self.flow.log_prob(y_lens[y == 1.], context=out_post[y == 1.]).mean()\n",
    "\n",
    "        loss = loss_class + loss_post\n",
    "\n",
    "        self.log('train_loss', loss)\n",
    "        return loss\n",
    "\n",
    "    def validation_step(self, batch, batch_idx):\n",
    "        x, y, y_lens = batch\n",
    "        \n",
    "        out = self.deepset(x)\n",
    "        \n",
    "        out_post, out_y_hat = torch.chunk(out, 2, -1)\n",
    "        out_post = self.mlp_post(out_post)\n",
    "        y_hat = self.mlp_y_hat(out_y_hat)[:, 0]\n",
    "        \n",
    "        loss_class = nn.BCEWithLogitsLoss()(y_hat, y).mean()\n",
    "        loss_post = -self.flow.log_prob(y_lens[y == 1.], context=out_post[y == 1.]).mean()\n",
    "\n",
    "        loss = loss_class + loss_post\n",
    "\n",
    "        self.log('val_loss', loss)\n",
    "        return loss\n"
   ]
  },
  {
   "cell_type": "code",
   "execution_count": 29,
   "metadata": {},
   "outputs": [],
   "source": [
    "from sklearn.metrics import roc_curve, auc\n",
    "fpr, tpr, _ = roc_curve(y_test, y_hat)\n",
    "roc_auc = auc(fpr, tpr)"
   ]
  },
  {
   "cell_type": "code",
   "execution_count": 371,
   "metadata": {},
   "outputs": [],
   "source": [
    "model = MultiBlipInference()"
   ]
  },
  {
   "cell_type": "code",
   "execution_count": 372,
   "metadata": {},
   "outputs": [
    {
     "name": "stderr",
     "output_type": "stream",
     "text": [
      "GPU available: True, used: True\n",
      "TPU available: False, using: 0 TPU cores\n",
      "IPU available: False, using: 0 IPUs\n",
      "LOCAL_RANK: 0 - CUDA_VISIBLE_DEVICES: [0]\n",
      "Set SLURM handle signals.\n",
      "\n",
      "  | Name      | Type               | Params\n",
      "-------------------------------------------------\n",
      "0 | deepset   | SetTransformerLSTM | 682 K \n",
      "1 | flow      | Flow               | 342 K \n",
      "2 | mlp_y_hat | Sequential         | 58.0 K\n",
      "3 | mlp_post  | Sequential         | 66.1 K\n",
      "-------------------------------------------------\n",
      "1.1 M     Trainable params\n",
      "0         Non-trainable params\n",
      "1.1 M     Total params\n",
      "4.594     Total estimated model params size (MB)\n"
     ]
    },
    {
     "data": {
      "application/vnd.jupyter.widget-view+json": {
       "model_id": "",
       "version_major": 2,
       "version_minor": 0
      },
      "text/plain": [
       "Validation sanity check: 0it [00:00, ?it/s]"
      ]
     },
     "metadata": {},
     "output_type": "display_data"
    },
    {
     "data": {
      "application/vnd.jupyter.widget-view+json": {
       "model_id": "d935fff947fe4e1484c427e15cbf9b95",
       "version_major": 2,
       "version_minor": 0
      },
      "text/plain": [
       "Training: 0it [00:00, ?it/s]"
      ]
     },
     "metadata": {},
     "output_type": "display_data"
    },
    {
     "data": {
      "application/vnd.jupyter.widget-view+json": {
       "model_id": "",
       "version_major": 2,
       "version_minor": 0
      },
      "text/plain": [
       "Validating: 0it [00:00, ?it/s]"
      ]
     },
     "metadata": {},
     "output_type": "display_data"
    },
    {
     "data": {
      "application/vnd.jupyter.widget-view+json": {
       "model_id": "",
       "version_major": 2,
       "version_minor": 0
      },
      "text/plain": [
       "Validating: 0it [00:00, ?it/s]"
      ]
     },
     "metadata": {},
     "output_type": "display_data"
    },
    {
     "data": {
      "application/vnd.jupyter.widget-view+json": {
       "model_id": "",
       "version_major": 2,
       "version_minor": 0
      },
      "text/plain": [
       "Validating: 0it [00:00, ?it/s]"
      ]
     },
     "metadata": {},
     "output_type": "display_data"
    },
    {
     "data": {
      "application/vnd.jupyter.widget-view+json": {
       "model_id": "",
       "version_major": 2,
       "version_minor": 0
      },
      "text/plain": [
       "Validating: 0it [00:00, ?it/s]"
      ]
     },
     "metadata": {},
     "output_type": "display_data"
    },
    {
     "data": {
      "application/vnd.jupyter.widget-view+json": {
       "model_id": "",
       "version_major": 2,
       "version_minor": 0
      },
      "text/plain": [
       "Validating: 0it [00:00, ?it/s]"
      ]
     },
     "metadata": {},
     "output_type": "display_data"
    },
    {
     "data": {
      "application/vnd.jupyter.widget-view+json": {
       "model_id": "",
       "version_major": 2,
       "version_minor": 0
      },
      "text/plain": [
       "Validating: 0it [00:00, ?it/s]"
      ]
     },
     "metadata": {},
     "output_type": "display_data"
    },
    {
     "data": {
      "application/vnd.jupyter.widget-view+json": {
       "model_id": "",
       "version_major": 2,
       "version_minor": 0
      },
      "text/plain": [
       "Validating: 0it [00:00, ?it/s]"
      ]
     },
     "metadata": {},
     "output_type": "display_data"
    },
    {
     "data": {
      "application/vnd.jupyter.widget-view+json": {
       "model_id": "",
       "version_major": 2,
       "version_minor": 0
      },
      "text/plain": [
       "Validating: 0it [00:00, ?it/s]"
      ]
     },
     "metadata": {},
     "output_type": "display_data"
    },
    {
     "data": {
      "application/vnd.jupyter.widget-view+json": {
       "model_id": "",
       "version_major": 2,
       "version_minor": 0
      },
      "text/plain": [
       "Validating: 0it [00:00, ?it/s]"
      ]
     },
     "metadata": {},
     "output_type": "display_data"
    },
    {
     "data": {
      "application/vnd.jupyter.widget-view+json": {
       "model_id": "",
       "version_major": 2,
       "version_minor": 0
      },
      "text/plain": [
       "Validating: 0it [00:00, ?it/s]"
      ]
     },
     "metadata": {},
     "output_type": "display_data"
    },
    {
     "data": {
      "application/vnd.jupyter.widget-view+json": {
       "model_id": "",
       "version_major": 2,
       "version_minor": 0
      },
      "text/plain": [
       "Validating: 0it [00:00, ?it/s]"
      ]
     },
     "metadata": {},
     "output_type": "display_data"
    },
    {
     "data": {
      "application/vnd.jupyter.widget-view+json": {
       "model_id": "",
       "version_major": 2,
       "version_minor": 0
      },
      "text/plain": [
       "Validating: 0it [00:00, ?it/s]"
      ]
     },
     "metadata": {},
     "output_type": "display_data"
    },
    {
     "data": {
      "application/vnd.jupyter.widget-view+json": {
       "model_id": "",
       "version_major": 2,
       "version_minor": 0
      },
      "text/plain": [
       "Validating: 0it [00:00, ?it/s]"
      ]
     },
     "metadata": {},
     "output_type": "display_data"
    },
    {
     "data": {
      "application/vnd.jupyter.widget-view+json": {
       "model_id": "",
       "version_major": 2,
       "version_minor": 0
      },
      "text/plain": [
       "Validating: 0it [00:00, ?it/s]"
      ]
     },
     "metadata": {},
     "output_type": "display_data"
    },
    {
     "data": {
      "application/vnd.jupyter.widget-view+json": {
       "model_id": "",
       "version_major": 2,
       "version_minor": 0
      },
      "text/plain": [
       "Validating: 0it [00:00, ?it/s]"
      ]
     },
     "metadata": {},
     "output_type": "display_data"
    },
    {
     "data": {
      "application/vnd.jupyter.widget-view+json": {
       "model_id": "",
       "version_major": 2,
       "version_minor": 0
      },
      "text/plain": [
       "Validating: 0it [00:00, ?it/s]"
      ]
     },
     "metadata": {},
     "output_type": "display_data"
    },
    {
     "data": {
      "application/vnd.jupyter.widget-view+json": {
       "model_id": "",
       "version_major": 2,
       "version_minor": 0
      },
      "text/plain": [
       "Validating: 0it [00:00, ?it/s]"
      ]
     },
     "metadata": {},
     "output_type": "display_data"
    },
    {
     "data": {
      "application/vnd.jupyter.widget-view+json": {
       "model_id": "",
       "version_major": 2,
       "version_minor": 0
      },
      "text/plain": [
       "Validating: 0it [00:00, ?it/s]"
      ]
     },
     "metadata": {},
     "output_type": "display_data"
    },
    {
     "data": {
      "application/vnd.jupyter.widget-view+json": {
       "model_id": "",
       "version_major": 2,
       "version_minor": 0
      },
      "text/plain": [
       "Validating: 0it [00:00, ?it/s]"
      ]
     },
     "metadata": {},
     "output_type": "display_data"
    },
    {
     "data": {
      "application/vnd.jupyter.widget-view+json": {
       "model_id": "",
       "version_major": 2,
       "version_minor": 0
      },
      "text/plain": [
       "Validating: 0it [00:00, ?it/s]"
      ]
     },
     "metadata": {},
     "output_type": "display_data"
    },
    {
     "data": {
      "application/vnd.jupyter.widget-view+json": {
       "model_id": "",
       "version_major": 2,
       "version_minor": 0
      },
      "text/plain": [
       "Validating: 0it [00:00, ?it/s]"
      ]
     },
     "metadata": {},
     "output_type": "display_data"
    },
    {
     "data": {
      "application/vnd.jupyter.widget-view+json": {
       "model_id": "",
       "version_major": 2,
       "version_minor": 0
      },
      "text/plain": [
       "Validating: 0it [00:00, ?it/s]"
      ]
     },
     "metadata": {},
     "output_type": "display_data"
    },
    {
     "data": {
      "application/vnd.jupyter.widget-view+json": {
       "model_id": "",
       "version_major": 2,
       "version_minor": 0
      },
      "text/plain": [
       "Validating: 0it [00:00, ?it/s]"
      ]
     },
     "metadata": {},
     "output_type": "display_data"
    },
    {
     "data": {
      "application/vnd.jupyter.widget-view+json": {
       "model_id": "",
       "version_major": 2,
       "version_minor": 0
      },
      "text/plain": [
       "Validating: 0it [00:00, ?it/s]"
      ]
     },
     "metadata": {},
     "output_type": "display_data"
    },
    {
     "data": {
      "application/vnd.jupyter.widget-view+json": {
       "model_id": "",
       "version_major": 2,
       "version_minor": 0
      },
      "text/plain": [
       "Validating: 0it [00:00, ?it/s]"
      ]
     },
     "metadata": {},
     "output_type": "display_data"
    }
   ],
   "source": [
    "checkpoint_callback = ModelCheckpoint(monitor=\"val_loss\")\n",
    "early_stop_callback = EarlyStopping(monitor='val_loss', patience=8)        \n",
    "lr_monitor = LearningRateMonitor(logging_interval='epoch')\n",
    "\n",
    "trainer = pl.Trainer(max_epochs=25, gpus=1, gradient_clip_val=1., callbacks=[checkpoint_callback, early_stop_callback, lr_monitor])\n",
    "trainer.fit(model=model, train_dataloaders=train_loader, val_dataloaders=val_loader)\n",
    "model.load_from_checkpoint(checkpoint_callback.best_model_path);"
   ]
  },
  {
   "cell_type": "code",
   "execution_count": null,
   "metadata": {},
   "outputs": [],
   "source": []
  },
  {
   "cell_type": "markdown",
   "metadata": {},
   "source": [
    "# Evaluate"
   ]
  },
  {
   "cell_type": "code",
   "execution_count": 373,
   "metadata": {},
   "outputs": [],
   "source": [
    "model.to('cuda');\n",
    "model.eval();"
   ]
  },
  {
   "cell_type": "code",
   "execution_count": 374,
   "metadata": {},
   "outputs": [
    {
     "data": {
      "application/vnd.jupyter.widget-view+json": {
       "model_id": "96c12ebd37b74c8999d43f386bf0eedf",
       "version_major": 2,
       "version_minor": 0
      },
      "text/plain": [
       "  0%|          | 0/47 [00:00<?, ?it/s]"
      ]
     },
     "metadata": {},
     "output_type": "display_data"
    }
   ],
   "source": [
    "y_hat = []\n",
    "y_val = []\n",
    "for batch in tqdm(val_loader):\n",
    "    x_batch, y_batch, y_lens_batch = batch\n",
    "    out_batch = model.deepset(x_batch.to('cuda'))\n",
    "    y_hat.append(torch.sigmoid(model.mlp_y_hat(torch.chunk(out_batch, 2, -1)[-1])).to('cpu').detach().numpy())\n",
    "    y_val.append(y_batch)"
   ]
  },
  {
   "cell_type": "code",
   "execution_count": 375,
   "metadata": {},
   "outputs": [],
   "source": [
    "y_hat = np.concatenate(y_hat)\n",
    "y_test = np.concatenate(y_val)"
   ]
  },
  {
   "cell_type": "code",
   "execution_count": 376,
   "metadata": {},
   "outputs": [],
   "source": [
    "from sklearn.metrics import roc_curve, auc\n",
    "fpr, tpr, _ = roc_curve(y_test, y_hat)\n",
    "roc_auc = auc(fpr, tpr)"
   ]
  },
  {
   "cell_type": "code",
   "execution_count": 377,
   "metadata": {},
   "outputs": [
    {
     "data": {
      "image/png": "[encoded data removed]",
      "text/plain": [
       "<Figure size 443.077x360 with 1 Axes>"
      ]
     },
     "metadata": {
      "needs_background": "light"
     },
     "output_type": "display_data"
    }
   ],
   "source": [
    "plt.plot(fpr, tpr, label=\"ROC (AUC = %0.2f)\" % roc_auc)\n",
    "plt.plot([0, 1], [0, 1], lw=2, linestyle=\"--\")\n",
    "plt.xlim([0.0, 1.0])\n",
    "plt.ylim([0.0, 1.05])\n",
    "plt.xlabel(\"False Positive Rate\")\n",
    "plt.ylabel(\"True Positive Rate\")\n",
    "plt.title(\"Lens/no-lens classification performance\")\n",
    "plt.legend(loc=\"lower right\")\n",
    "plt.show()"
   ]
  },
  {
   "cell_type": "code",
   "execution_count": 381,
   "metadata": {},
   "outputs": [],
   "source": [
    "def destandardize(samples):\n",
    "    return samples #* y_lens_prop_std + y_lens_prop_mean"
   ]
  },
  {
   "cell_type": "code",
   "execution_count": 382,
   "metadata": {},
   "outputs": [],
   "source": [
    "# import seaborn as sns\n",
    "\n",
    "# fig = plt.figure(figsize=(12, 12))\n",
    "\n",
    "# gs = GridSpec(4, 4)\n",
    "\n",
    "# for ii, i in tqdm(enumerate(range(16, 16 + 16))):\n",
    "    \n",
    "#     ax = fig.add_subplot(gs[ii])\n",
    "    \n",
    "#     idx = torch.where(y == 1)[0][i].numpy()\n",
    "#     context = model.mlp_post(torch.chunk(model.deepset(x[idx].unsqueeze(0).to('cuda')), 2, -1)[0])\n",
    "#     samples, log_prob = model.flow.sample_and_log_prob(num_samples=5000, context=context)\n",
    "\n",
    "#     samps = np.nan_to_num(samples.cpu().detach().numpy()[0]).T\n",
    "    \n",
    "#     sns.kdeplot(x=samps[0], y=samps[1], fill=True, levels=50, cmap=sns.color_palette(\"Blues\", as_cmap=True), thresh=0.5, alpha=0.65, ax=ax)\n",
    "    \n",
    "#     ax.axvline(y_lens_prop[idx].numpy()[0])\n",
    "#     ax.axhline(y_lens_prop[idx].numpy()[1])\n",
    "    "
   ]
  },
  {
   "cell_type": "code",
   "execution_count": 20,
   "metadata": {},
   "outputs": [],
   "source": [
    "# import corner\n",
    "\n",
    "# for i in range(20, 30):\n",
    "\n",
    "#     idx = torch.where(y == 1)[0][i].numpy()\n",
    "#     context = model.mlp_post(torch.chunk(model.deepset(x[idx].unsqueeze(0).to('cuda')), 2, -1)[0])\n",
    "#     samples, log_prob = model.flow.sample_and_log_prob(num_samples=50000, context=context)\n",
    "#     corner.corner(destandardize(samples.cpu().detach().numpy()[0]) , truths=destandardize(y_lens_prop[idx].numpy()));\n",
    "    "
   ]
  },
  {
   "cell_type": "markdown",
   "metadata": {},
   "source": [
    "# Spatial aggregation then temporal processing"
   ]
  },
  {
   "cell_type": "code",
   "execution_count": 20,
   "metadata": {},
   "outputs": [],
   "source": [
    "import sys\n",
    "sys.path.append(\"../\")"
   ]
  },
  {
   "cell_type": "code",
   "execution_count": 21,
   "metadata": {},
   "outputs": [],
   "source": [
    "from models.networks import build_mlp, build_maf\n",
    "from models.spatio_temporal import SpatioTemporalLSTM"
   ]
  },
  {
   "cell_type": "code",
   "execution_count": 22,
   "metadata": {},
   "outputs": [
    {
     "data": {
      "text/plain": [
       "torch.Size([20000, 20, 10, 2])"
      ]
     },
     "execution_count": 22,
     "metadata": {},
     "output_type": "execute_result"
    }
   ],
   "source": [
    "x.shape"
   ]
  },
  {
   "cell_type": "code",
   "execution_count": 23,
   "metadata": {},
   "outputs": [],
   "source": [
    "x = (x - x.mean()) / x.std()"
   ]
  },
  {
   "cell_type": "code",
   "execution_count": 24,
   "metadata": {},
   "outputs": [],
   "source": [
    "stl = SpatioTemporalLSTM(dim_hidden=64)"
   ]
  },
  {
   "cell_type": "code",
   "execution_count": 25,
   "metadata": {},
   "outputs": [
    {
     "data": {
      "text/plain": [
       "tensor([[-0.0685,  0.0871,  0.0119,  ..., -0.0603,  0.0038, -0.1108],\n",
       "        [-0.0681,  0.0872,  0.0121,  ..., -0.0603,  0.0038, -0.1108],\n",
       "        [-0.0683,  0.0872,  0.0121,  ..., -0.0603,  0.0038, -0.1108],\n",
       "        ...,\n",
       "        [-0.0692,  0.0878,  0.0116,  ..., -0.0603,  0.0037, -0.1108],\n",
       "        [-0.0679,  0.0873,  0.0124,  ..., -0.0603,  0.0038, -0.1108],\n",
       "        [-0.0691,  0.0872,  0.0113,  ..., -0.0603,  0.0037, -0.1108]],\n",
       "       grad_fn=<UnsafeViewBackward0>)"
      ]
     },
     "execution_count": 25,
     "metadata": {},
     "output_type": "execute_result"
    }
   ],
   "source": [
    "stl(x[:8])  # takes in a batch of 8, spits out features"
   ]
  },
  {
   "cell_type": "code",
   "execution_count": 26,
   "metadata": {},
   "outputs": [],
   "source": [
    "y_lens_prop_mean = y_lens_prop.mean(-2)\n",
    "y_lens_prop_std = y_lens_prop.std(-2)\n",
    "\n",
    "y_lens_prop = (y_lens_prop - y_lens_prop_mean) / y_lens_prop_std"
   ]
  },
  {
   "cell_type": "code",
   "execution_count": 27,
   "metadata": {},
   "outputs": [],
   "source": [
    "y_lens_prop = torch.Tensor(y_lens_prop)"
   ]
  },
  {
   "cell_type": "code",
   "execution_count": 28,
   "metadata": {},
   "outputs": [
    {
     "name": "stderr",
     "output_type": "stream",
     "text": [
      "/n/home11/smsharma/.conda/envs/deepsets/lib/python3.9/site-packages/torch/utils/data/dataloader.py:478: UserWarning: This DataLoader will create 8 worker processes in total. Our suggested max number of worker in current system is 2, which is smaller than what this DataLoader is going to create. Please be aware that excessive worker creation might get DataLoader running slow or even freeze, lower the worker number to avoid potential slowness/freeze if necessary.\n",
      "  warnings.warn(_create_warning_msg(\n"
     ]
    }
   ],
   "source": [
    "val_fraction = 0.1\n",
    "n_samples_val = int(val_fraction * len(x))\n",
    "\n",
    "dataset = TensorDataset(x, y, y_lens_prop)\n",
    "\n",
    "dataset_train, dataset_val = random_split(dataset, [len(x) - n_samples_val, n_samples_val])\n",
    "train_loader = DataLoader(dataset_train, batch_size=128, num_workers=8, pin_memory=True, shuffle=True)\n",
    "val_loader = DataLoader(dataset_val, batch_size=128, num_workers=8, pin_memory=True, shuffle=False)"
   ]
  },
  {
   "cell_type": "code",
   "execution_count": 29,
   "metadata": {},
   "outputs": [],
   "source": [
    "class MultiBlipInference(pl.LightningModule):\n",
    "\n",
    "    \n",
    "    def __init__(self, dim_summary=96):  # dimension of feature vector output\n",
    "        \"\"\" Lightning module\n",
    "        \"\"\"\n",
    "        super().__init__()\n",
    "\n",
    "        self.spatio_temporal = SpatioTemporalLSTM(dim_hidden=dim_summary)\n",
    "        self.flow = build_maf(dim=2, num_transforms=8, context_features=dim_summary, hidden_features=128)\n",
    "        self.mlp_y_hat = build_mlp(input_dim=dim_summary, hidden_dim=int(2 * dim_summary),\n",
    "                                   output_dim=1, layers=4)\n",
    "        self.mlp_post = build_mlp(input_dim=dim_summary, hidden_dim=int(2 * dim_summary), output_dim=dim_summary, layers=4)\n",
    "\n",
    "    def configure_optimizers(self):\n",
    "        \n",
    "        optimizer = optim.AdamW(self.parameters(), lr=3e-4, weight_decay=1e-5)\n",
    "        scheduler = torch.optim.lr_scheduler.ReduceLROnPlateau(optimizer, patience=4)\n",
    "        \n",
    "        return {\"optimizer\": optimizer, \n",
    "                \"lr_scheduler\": {\n",
    "                    \"scheduler\": scheduler,\n",
    "                    \"interval\": \"epoch\",\n",
    "                    \"monitor\": \"val_loss\",\n",
    "                    \"frequency\": 1}\n",
    "                }\n",
    "    \n",
    "    def training_step(self, batch, batch_idx):\n",
    "        x, y, y_lens = batch\n",
    "        \n",
    "        out = self.spatio_temporal(x)\n",
    "        \n",
    "        out_post, out_y_hat = torch.chunk(out, 2, -1)\n",
    "        out_post = self.mlp_post(out_post)\n",
    "        y_hat = self.mlp_y_hat(out_y_hat)[:, 0]\n",
    "        \n",
    "        loss_class = nn.BCEWithLogitsLoss()(y_hat, y).mean()\n",
    "        loss_post = -self.flow.log_prob(y_lens[y == 1.], context=out_post[y == 1.]).mean()\n",
    "\n",
    "        loss = loss_class + loss_post\n",
    "\n",
    "        self.log('train_loss', loss)\n",
    "        return loss\n",
    "\n",
    "    def validation_step(self, batch, batch_idx):\n",
    "        x, y, y_lens = batch\n",
    "        \n",
    "        out = self.spatio_temporal(x)\n",
    "        \n",
    "        out_post, out_y_hat = torch.chunk(out, 2, -1)\n",
    "        out_post = self.mlp_post(out_post)\n",
    "        y_hat = self.mlp_y_hat(out_y_hat)[:, 0]\n",
    "        \n",
    "        loss_class = nn.BCEWithLogitsLoss()(y_hat, y).mean()\n",
    "        loss_post = -self.flow.log_prob(y_lens[y == 1.], context=out_post[y == 1.]).mean()\n",
    "\n",
    "        loss = loss_class + loss_post\n",
    "\n",
    "        self.log('val_loss', loss)\n",
    "        return loss\n"
   ]
  },
  {
   "cell_type": "code",
   "execution_count": 30,
   "metadata": {},
   "outputs": [],
   "source": [
    "model = MultiBlipInference()"
   ]
  },
  {
   "cell_type": "code",
   "execution_count": 31,
   "metadata": {},
   "outputs": [
    {
     "name": "stderr",
     "output_type": "stream",
     "text": [
      "GPU available: True, used: True\n",
      "TPU available: False, using: 0 TPU cores\n",
      "IPU available: False, using: 0 IPUs\n",
      "LOCAL_RANK: 0 - CUDA_VISIBLE_DEVICES: [0,1]\n",
      "Set SLURM handle signals.\n",
      "\n",
      "  | Name            | Type               | Params\n",
      "-------------------------------------------------------\n",
      "0 | spatio_temporal | SpatioTemporalLSTM | 1.9 M \n",
      "1 | flow            | Flow               | 841 K \n",
      "2 | mlp_y_hat       | Sequential         | 167 K \n",
      "3 | mlp_post        | Sequential         | 185 K \n",
      "-------------------------------------------------------\n",
      "3.1 M     Trainable params\n",
      "0         Non-trainable params\n",
      "3.1 M     Total params\n",
      "12.402    Total estimated model params size (MB)\n",
      "/n/home11/smsharma/.conda/envs/deepsets/lib/python3.9/site-packages/pytorch_lightning/callbacks/model_checkpoint.py:631: UserWarning: Checkpoint directory /net/rcstorenfs02/ifs/rc_labs/dvorkin_lab/smsharma/Astrometric_TSeries_ML/notebooks/lightning_logs/version_3902984/checkpoints exists and is not empty.\n",
      "  rank_zero_warn(f\"Checkpoint directory {dirpath} exists and is not empty.\")\n"
     ]
    },
    {
     "data": {
      "application/vnd.jupyter.widget-view+json": {
       "model_id": "",
       "version_major": 2,
       "version_minor": 0
      },
      "text/plain": [
       "Validation sanity check: 0it [00:00, ?it/s]"
      ]
     },
     "metadata": {},
     "output_type": "display_data"
    },
    {
     "data": {
      "application/vnd.jupyter.widget-view+json": {
       "model_id": "4f72624ca3f6419595de4c9a89a9dc3e",
       "version_major": 2,
       "version_minor": 0
      },
      "text/plain": [
       "Training: 0it [00:00, ?it/s]"
      ]
     },
     "metadata": {},
     "output_type": "display_data"
    },
    {
     "data": {
      "application/vnd.jupyter.widget-view+json": {
       "model_id": "",
       "version_major": 2,
       "version_minor": 0
      },
      "text/plain": [
       "Validating: 0it [00:00, ?it/s]"
      ]
     },
     "metadata": {},
     "output_type": "display_data"
    },
    {
     "data": {
      "application/vnd.jupyter.widget-view+json": {
       "model_id": "",
       "version_major": 2,
       "version_minor": 0
      },
      "text/plain": [
       "Validating: 0it [00:00, ?it/s]"
      ]
     },
     "metadata": {},
     "output_type": "display_data"
    },
    {
     "data": {
      "application/vnd.jupyter.widget-view+json": {
       "model_id": "",
       "version_major": 2,
       "version_minor": 0
      },
      "text/plain": [
       "Validating: 0it [00:00, ?it/s]"
      ]
     },
     "metadata": {},
     "output_type": "display_data"
    },
    {
     "data": {
      "application/vnd.jupyter.widget-view+json": {
       "model_id": "",
       "version_major": 2,
       "version_minor": 0
      },
      "text/plain": [
       "Validating: 0it [00:00, ?it/s]"
      ]
     },
     "metadata": {},
     "output_type": "display_data"
    },
    {
     "data": {
      "application/vnd.jupyter.widget-view+json": {
       "model_id": "",
       "version_major": 2,
       "version_minor": 0
      },
      "text/plain": [
       "Validating: 0it [00:00, ?it/s]"
      ]
     },
     "metadata": {},
     "output_type": "display_data"
    },
    {
     "data": {
      "application/vnd.jupyter.widget-view+json": {
       "model_id": "",
       "version_major": 2,
       "version_minor": 0
      },
      "text/plain": [
       "Validating: 0it [00:00, ?it/s]"
      ]
     },
     "metadata": {},
     "output_type": "display_data"
    },
    {
     "data": {
      "application/vnd.jupyter.widget-view+json": {
       "model_id": "",
       "version_major": 2,
       "version_minor": 0
      },
      "text/plain": [
       "Validating: 0it [00:00, ?it/s]"
      ]
     },
     "metadata": {},
     "output_type": "display_data"
    },
    {
     "data": {
      "application/vnd.jupyter.widget-view+json": {
       "model_id": "",
       "version_major": 2,
       "version_minor": 0
      },
      "text/plain": [
       "Validating: 0it [00:00, ?it/s]"
      ]
     },
     "metadata": {},
     "output_type": "display_data"
    },
    {
     "data": {
      "application/vnd.jupyter.widget-view+json": {
       "model_id": "",
       "version_major": 2,
       "version_minor": 0
      },
      "text/plain": [
       "Validating: 0it [00:00, ?it/s]"
      ]
     },
     "metadata": {},
     "output_type": "display_data"
    },
    {
     "data": {
      "application/vnd.jupyter.widget-view+json": {
       "model_id": "",
       "version_major": 2,
       "version_minor": 0
      },
      "text/plain": [
       "Validating: 0it [00:00, ?it/s]"
      ]
     },
     "metadata": {},
     "output_type": "display_data"
    },
    {
     "data": {
      "application/vnd.jupyter.widget-view+json": {
       "model_id": "",
       "version_major": 2,
       "version_minor": 0
      },
      "text/plain": [
       "Validating: 0it [00:00, ?it/s]"
      ]
     },
     "metadata": {},
     "output_type": "display_data"
    },
    {
     "data": {
      "application/vnd.jupyter.widget-view+json": {
       "model_id": "",
       "version_major": 2,
       "version_minor": 0
      },
      "text/plain": [
       "Validating: 0it [00:00, ?it/s]"
      ]
     },
     "metadata": {},
     "output_type": "display_data"
    },
    {
     "data": {
      "application/vnd.jupyter.widget-view+json": {
       "model_id": "",
       "version_major": 2,
       "version_minor": 0
      },
      "text/plain": [
       "Validating: 0it [00:00, ?it/s]"
      ]
     },
     "metadata": {},
     "output_type": "display_data"
    },
    {
     "data": {
      "application/vnd.jupyter.widget-view+json": {
       "model_id": "",
       "version_major": 2,
       "version_minor": 0
      },
      "text/plain": [
       "Validating: 0it [00:00, ?it/s]"
      ]
     },
     "metadata": {},
     "output_type": "display_data"
    },
    {
     "data": {
      "application/vnd.jupyter.widget-view+json": {
       "model_id": "",
       "version_major": 2,
       "version_minor": 0
      },
      "text/plain": [
       "Validating: 0it [00:00, ?it/s]"
      ]
     },
     "metadata": {},
     "output_type": "display_data"
    },
    {
     "data": {
      "application/vnd.jupyter.widget-view+json": {
       "model_id": "",
       "version_major": 2,
       "version_minor": 0
      },
      "text/plain": [
       "Validating: 0it [00:00, ?it/s]"
      ]
     },
     "metadata": {},
     "output_type": "display_data"
    },
    {
     "data": {
      "application/vnd.jupyter.widget-view+json": {
       "model_id": "",
       "version_major": 2,
       "version_minor": 0
      },
      "text/plain": [
       "Validating: 0it [00:00, ?it/s]"
      ]
     },
     "metadata": {},
     "output_type": "display_data"
    },
    {
     "data": {
      "application/vnd.jupyter.widget-view+json": {
       "model_id": "",
       "version_major": 2,
       "version_minor": 0
      },
      "text/plain": [
       "Validating: 0it [00:00, ?it/s]"
      ]
     },
     "metadata": {},
     "output_type": "display_data"
    },
    {
     "data": {
      "application/vnd.jupyter.widget-view+json": {
       "model_id": "",
       "version_major": 2,
       "version_minor": 0
      },
      "text/plain": [
       "Validating: 0it [00:00, ?it/s]"
      ]
     },
     "metadata": {},
     "output_type": "display_data"
    },
    {
     "data": {
      "application/vnd.jupyter.widget-view+json": {
       "model_id": "",
       "version_major": 2,
       "version_minor": 0
      },
      "text/plain": [
       "Validating: 0it [00:00, ?it/s]"
      ]
     },
     "metadata": {},
     "output_type": "display_data"
    },
    {
     "data": {
      "application/vnd.jupyter.widget-view+json": {
       "model_id": "",
       "version_major": 2,
       "version_minor": 0
      },
      "text/plain": [
       "Validating: 0it [00:00, ?it/s]"
      ]
     },
     "metadata": {},
     "output_type": "display_data"
    },
    {
     "data": {
      "application/vnd.jupyter.widget-view+json": {
       "model_id": "",
       "version_major": 2,
       "version_minor": 0
      },
      "text/plain": [
       "Validating: 0it [00:00, ?it/s]"
      ]
     },
     "metadata": {},
     "output_type": "display_data"
    },
    {
     "data": {
      "application/vnd.jupyter.widget-view+json": {
       "model_id": "",
       "version_major": 2,
       "version_minor": 0
      },
      "text/plain": [
       "Validating: 0it [00:00, ?it/s]"
      ]
     },
     "metadata": {},
     "output_type": "display_data"
    },
    {
     "data": {
      "application/vnd.jupyter.widget-view+json": {
       "model_id": "",
       "version_major": 2,
       "version_minor": 0
      },
      "text/plain": [
       "Validating: 0it [00:00, ?it/s]"
      ]
     },
     "metadata": {},
     "output_type": "display_data"
    },
    {
     "data": {
      "application/vnd.jupyter.widget-view+json": {
       "model_id": "",
       "version_major": 2,
       "version_minor": 0
      },
      "text/plain": [
       "Validating: 0it [00:00, ?it/s]"
      ]
     },
     "metadata": {},
     "output_type": "display_data"
    },
    {
     "data": {
      "application/vnd.jupyter.widget-view+json": {
       "model_id": "",
       "version_major": 2,
       "version_minor": 0
      },
      "text/plain": [
       "Validating: 0it [00:00, ?it/s]"
      ]
     },
     "metadata": {},
     "output_type": "display_data"
    },
    {
     "data": {
      "application/vnd.jupyter.widget-view+json": {
       "model_id": "",
       "version_major": 2,
       "version_minor": 0
      },
      "text/plain": [
       "Validating: 0it [00:00, ?it/s]"
      ]
     },
     "metadata": {},
     "output_type": "display_data"
    },
    {
     "data": {
      "application/vnd.jupyter.widget-view+json": {
       "model_id": "",
       "version_major": 2,
       "version_minor": 0
      },
      "text/plain": [
       "Validating: 0it [00:00, ?it/s]"
      ]
     },
     "metadata": {},
     "output_type": "display_data"
    },
    {
     "data": {
      "application/vnd.jupyter.widget-view+json": {
       "model_id": "",
       "version_major": 2,
       "version_minor": 0
      },
      "text/plain": [
       "Validating: 0it [00:00, ?it/s]"
      ]
     },
     "metadata": {},
     "output_type": "display_data"
    },
    {
     "data": {
      "application/vnd.jupyter.widget-view+json": {
       "model_id": "",
       "version_major": 2,
       "version_minor": 0
      },
      "text/plain": [
       "Validating: 0it [00:00, ?it/s]"
      ]
     },
     "metadata": {},
     "output_type": "display_data"
    },
    {
     "data": {
      "application/vnd.jupyter.widget-view+json": {
       "model_id": "",
       "version_major": 2,
       "version_minor": 0
      },
      "text/plain": [
       "Validating: 0it [00:00, ?it/s]"
      ]
     },
     "metadata": {},
     "output_type": "display_data"
    },
    {
     "data": {
      "application/vnd.jupyter.widget-view+json": {
       "model_id": "",
       "version_major": 2,
       "version_minor": 0
      },
      "text/plain": [
       "Validating: 0it [00:00, ?it/s]"
      ]
     },
     "metadata": {},
     "output_type": "display_data"
    },
    {
     "data": {
      "application/vnd.jupyter.widget-view+json": {
       "model_id": "",
       "version_major": 2,
       "version_minor": 0
      },
      "text/plain": [
       "Validating: 0it [00:00, ?it/s]"
      ]
     },
     "metadata": {},
     "output_type": "display_data"
    },
    {
     "data": {
      "application/vnd.jupyter.widget-view+json": {
       "model_id": "",
       "version_major": 2,
       "version_minor": 0
      },
      "text/plain": [
       "Validating: 0it [00:00, ?it/s]"
      ]
     },
     "metadata": {},
     "output_type": "display_data"
    },
    {
     "data": {
      "application/vnd.jupyter.widget-view+json": {
       "model_id": "",
       "version_major": 2,
       "version_minor": 0
      },
      "text/plain": [
       "Validating: 0it [00:00, ?it/s]"
      ]
     },
     "metadata": {},
     "output_type": "display_data"
    },
    {
     "data": {
      "application/vnd.jupyter.widget-view+json": {
       "model_id": "",
       "version_major": 2,
       "version_minor": 0
      },
      "text/plain": [
       "Validating: 0it [00:00, ?it/s]"
      ]
     },
     "metadata": {},
     "output_type": "display_data"
    },
    {
     "data": {
      "application/vnd.jupyter.widget-view+json": {
       "model_id": "",
       "version_major": 2,
       "version_minor": 0
      },
      "text/plain": [
       "Validating: 0it [00:00, ?it/s]"
      ]
     },
     "metadata": {},
     "output_type": "display_data"
    },
    {
     "data": {
      "application/vnd.jupyter.widget-view+json": {
       "model_id": "",
       "version_major": 2,
       "version_minor": 0
      },
      "text/plain": [
       "Validating: 0it [00:00, ?it/s]"
      ]
     },
     "metadata": {},
     "output_type": "display_data"
    },
    {
     "data": {
      "application/vnd.jupyter.widget-view+json": {
       "model_id": "",
       "version_major": 2,
       "version_minor": 0
      },
      "text/plain": [
       "Validating: 0it [00:00, ?it/s]"
      ]
     },
     "metadata": {},
     "output_type": "display_data"
    },
    {
     "data": {
      "application/vnd.jupyter.widget-view+json": {
       "model_id": "",
       "version_major": 2,
       "version_minor": 0
      },
      "text/plain": [
       "Validating: 0it [00:00, ?it/s]"
      ]
     },
     "metadata": {},
     "output_type": "display_data"
    },
    {
     "data": {
      "application/vnd.jupyter.widget-view+json": {
       "model_id": "",
       "version_major": 2,
       "version_minor": 0
      },
      "text/plain": [
       "Validating: 0it [00:00, ?it/s]"
      ]
     },
     "metadata": {},
     "output_type": "display_data"
    },
    {
     "data": {
      "application/vnd.jupyter.widget-view+json": {
       "model_id": "",
       "version_major": 2,
       "version_minor": 0
      },
      "text/plain": [
       "Validating: 0it [00:00, ?it/s]"
      ]
     },
     "metadata": {},
     "output_type": "display_data"
    },
    {
     "data": {
      "application/vnd.jupyter.widget-view+json": {
       "model_id": "",
       "version_major": 2,
       "version_minor": 0
      },
      "text/plain": [
       "Validating: 0it [00:00, ?it/s]"
      ]
     },
     "metadata": {},
     "output_type": "display_data"
    },
    {
     "data": {
      "application/vnd.jupyter.widget-view+json": {
       "model_id": "",
       "version_major": 2,
       "version_minor": 0
      },
      "text/plain": [
       "Validating: 0it [00:00, ?it/s]"
      ]
     },
     "metadata": {},
     "output_type": "display_data"
    },
    {
     "data": {
      "application/vnd.jupyter.widget-view+json": {
       "model_id": "",
       "version_major": 2,
       "version_minor": 0
      },
      "text/plain": [
       "Validating: 0it [00:00, ?it/s]"
      ]
     },
     "metadata": {},
     "output_type": "display_data"
    },
    {
     "data": {
      "application/vnd.jupyter.widget-view+json": {
       "model_id": "",
       "version_major": 2,
       "version_minor": 0
      },
      "text/plain": [
       "Validating: 0it [00:00, ?it/s]"
      ]
     },
     "metadata": {},
     "output_type": "display_data"
    },
    {
     "data": {
      "application/vnd.jupyter.widget-view+json": {
       "model_id": "",
       "version_major": 2,
       "version_minor": 0
      },
      "text/plain": [
       "Validating: 0it [00:00, ?it/s]"
      ]
     },
     "metadata": {},
     "output_type": "display_data"
    },
    {
     "data": {
      "application/vnd.jupyter.widget-view+json": {
       "model_id": "",
       "version_major": 2,
       "version_minor": 0
      },
      "text/plain": [
       "Validating: 0it [00:00, ?it/s]"
      ]
     },
     "metadata": {},
     "output_type": "display_data"
    },
    {
     "data": {
      "application/vnd.jupyter.widget-view+json": {
       "model_id": "",
       "version_major": 2,
       "version_minor": 0
      },
      "text/plain": [
       "Validating: 0it [00:00, ?it/s]"
      ]
     },
     "metadata": {},
     "output_type": "display_data"
    },
    {
     "data": {
      "application/vnd.jupyter.widget-view+json": {
       "model_id": "",
       "version_major": 2,
       "version_minor": 0
      },
      "text/plain": [
       "Validating: 0it [00:00, ?it/s]"
      ]
     },
     "metadata": {},
     "output_type": "display_data"
    }
   ],
   "source": [
    "checkpoint_callback = ModelCheckpoint(monitor=\"val_loss\")\n",
    "early_stop_callback = EarlyStopping(monitor='val_loss', patience=8)        \n",
    "lr_monitor = LearningRateMonitor(logging_interval='epoch')\n",
    "\n",
    "trainer = pl.Trainer(max_epochs=50, gpus=1, gradient_clip_val=0.5, callbacks=[checkpoint_callback, early_stop_callback, lr_monitor])\n",
    "trainer.fit(model=model, train_dataloaders=train_loader, val_dataloaders=val_loader)\n",
    "model.load_from_checkpoint(checkpoint_callback.best_model_path);"
   ]
  },
  {
   "cell_type": "markdown",
   "metadata": {},
   "source": [
    "## Evaluate"
   ]
  },
  {
   "cell_type": "code",
   "execution_count": 32,
   "metadata": {},
   "outputs": [],
   "source": [
    "model.to('cuda');\n",
    "model.eval();"
   ]
  },
  {
   "cell_type": "code",
   "execution_count": 33,
   "metadata": {},
   "outputs": [
    {
     "data": {
      "application/vnd.jupyter.widget-view+json": {
       "model_id": "e86dc7626d9e43e28b17fc6b8cc775a6",
       "version_major": 2,
       "version_minor": 0
      },
      "text/plain": [
       "  0%|          | 0/16 [00:00<?, ?it/s]"
      ]
     },
     "metadata": {},
     "output_type": "display_data"
    }
   ],
   "source": [
    "y_hat = []\n",
    "y_val = []\n",
    "for batch in tqdm(val_loader):\n",
    "    x_batch, y_batch, y_lens_batch = batch\n",
    "    out_batch = model.spatio_temporal(x_batch.to('cuda'))\n",
    "    y_hat.append(torch.sigmoid(model.mlp_y_hat(torch.chunk(out_batch, 2, -1)[-1])).to('cpu').detach().numpy())\n",
    "    y_val.append(y_batch)"
   ]
  },
  {
   "cell_type": "code",
   "execution_count": 34,
   "metadata": {},
   "outputs": [],
   "source": [
    "y_hat = np.concatenate(y_hat)\n",
    "y_test = np.concatenate(y_val)"
   ]
  },
  {
   "cell_type": "code",
   "execution_count": 35,
   "metadata": {},
   "outputs": [],
   "source": [
    "from sklearn.metrics import roc_curve, auc\n",
    "fpr, tpr, _ = roc_curve(y_test, y_hat)\n",
    "roc_auc = auc(fpr, tpr)"
   ]
  },
  {
   "cell_type": "code",
   "execution_count": 36,
   "metadata": {},
   "outputs": [
    {
     "data": {
      "image/png": "[encoded data removed]",
      "text/plain": [
       "<Figure size 443.077x360 with 1 Axes>"
      ]
     },
     "metadata": {
      "needs_background": "light"
     },
     "output_type": "display_data"
    }
   ],
   "source": [
    "plt.plot(fpr, tpr, label=\"ROC (AUC = %0.2f)\" % roc_auc)\n",
    "plt.plot([0, 1], [0, 1], lw=2, linestyle=\"--\")\n",
    "plt.xlim([0.0, 1.0])\n",
    "plt.ylim([0.0, 1.05])\n",
    "plt.xlabel(\"False Positive Rate\")\n",
    "plt.ylabel(\"True Positive Rate\")\n",
    "plt.title(\"Lens/no-lens classification performance\")\n",
    "plt.legend(loc=\"lower right\")\n",
    "plt.show()"
   ]
  },
  {
   "cell_type": "code",
   "execution_count": 37,
   "metadata": {},
   "outputs": [],
   "source": [
    "def destandardize(samples):\n",
    "    return samples * y_lens_prop_std + y_lens_prop_mean"
   ]
  },
  {
   "cell_type": "code",
   "execution_count": 38,
   "metadata": {},
   "outputs": [],
   "source": [
    "import corner\n",
    "\n",
    "labels = [r'$\\log_{10} M\\,[\\mathrm{M}_\\odot]$',r'$\\log_{10} (R\\,[\\mathrm{pc}])$']"
   ]
  },
  {
   "cell_type": "code",
   "execution_count": 43,
   "metadata": {
    "scrolled": true
   },
   "outputs": [
    {
     "data": {
      "application/vnd.jupyter.widget-view+json": {
       "model_id": "e57dc0f8cdbc4408a311ff3bc67ea571",
       "version_major": 2,
       "version_minor": 0
      },
      "text/plain": [
       "  0%|          | 0/40 [00:00<?, ?it/s]"
      ]
     },
     "metadata": {},
     "output_type": "display_data"
    },
    {
     "data": {
      "image/png": "[encoded data removed]",
      "text/plain": [
       "<Figure size 1440x576 with 36 Axes>"
      ]
     },
     "metadata": {
      "needs_background": "light"
     },
     "output_type": "display_data"
    }
   ],
   "source": [
    "n_plots = 5\n",
    "fig = plt.figure(figsize=(20, 8))\n",
    "subfigs = fig.subfigures(2, n_plots)\n",
    "\n",
    "n_fig = 0\n",
    "for i in (range(0, 40)):\n",
    "\n",
    "    idx = torch.where(y_batch == 1)[0][i].numpy()\n",
    "    feats = torch.chunk(model.spatio_temporal(x_batch[idx].unsqueeze(0).to('cuda')), 2, -1)\n",
    "    context = model.mlp_post(feats[0])\n",
    "    y_hat = model.mlp_y_hat(feats[1])[:, 0]\n",
    "    if y_hat.sigmoid() > 0.7:\n",
    "        samples, log_prob = model.flow.sample_and_log_prob(num_samples=50000, context=context)\n",
    "        corner.corner(destandardize(samples.cpu().detach().numpy()[0]), fig=subfigs[n_fig // 5, n_fig % 5], truths=destandardize(y_lens_batch[idx].numpy()), range=[[4.5,7],[-3,1.5]], plot_contours=True, bins=30, smooth=2, smooth1d=1.3, labels=labels, color=cols_default[0], truth_color='darkgrey');\n",
    "        n_fig += 1\n",
    "    if n_fig == 2 * n_plots:\n",
    "        break"
   ]
  },
  {
   "cell_type": "markdown",
   "metadata": {},
   "source": [
    "# Estimating Parameters"
   ]
  },
  {
   "cell_type": "code",
   "execution_count": 75,
   "metadata": {},
   "outputs": [
    {
     "name": "stdout",
     "output_type": "stream",
     "text": [
      "# of lenses in all images: [   3792.59259259 3431456.93576101]\n",
      "# of lenses in all images that are 0.1 kpc away: [0.00740741 6.70206433]\n",
      "deflections will be greater than (mu_as) 128.7656264234675\n",
      "typical distance between sources (as): 3.5355339059327378\n",
      "typical velocity of sources (mas/yr): 2.578310078088704\n",
      "lenses better be 1371.2601660982612 times closer to travel between two sources\n"
     ]
    }
   ],
   "source": [
    "def estimate(M_lens, R_nearby=1):\n",
    "    Omega_disk = 0.2  # rad^2, disk size\n",
    "    R_disk = 8  # kpc, disk radius\n",
    "    M_mw = 1e12  # M_sol, Milky Way mass\n",
    "    R_mw = 300  # kpc, https://arxiv.org/abs/2002.09497\n",
    "    \n",
    "    \n",
    "    # lens number density\n",
    "    rho_lens = np.array([M_mw / (4/3 * np.pi * R_mw**3), .008e9])\n",
    "    n_lens = rho_lens/M_lens\n",
    "    \n",
    "    # Total number of lenses in our images \n",
    "    SA = 4 * np.pi * R_disk**2\n",
    "    A_base = Omega_disk * SA  # assume a square base\n",
    "    V_obs = 1/3 * A_base * R_disk\n",
    "    print('# of lenses in all images:', n_lens * V_obs)\n",
    "    \n",
    "    \n",
    "#     ns = [n_lens]\n",
    "#     rho_lens = .008e9\n",
    "#     ns.append(rho_lens/M_lens)\n",
    "    SA = 4 * np.pi * R_nearby**2\n",
    "    A_base = Omega_disk * SA\n",
    "    V_obs = 1/3 * A_base * R_nearby\n",
    "    print('# of lenses in all images that are '+str(R_nearby)+' kpc away:', n_lens * V_obs)\n",
    "    \n",
    "    print('deflections will be greater than (mu_as)', 4 * lt.G_N * M_lens / (R_disk*l_angle/2 * lt.c**2) * lt.rad_to_muas)\n",
    "    \n",
    "    \n",
    "    l_s = np.sqrt(1/n_dens)  # rad, angular separation begtween sources\n",
    "    v = 100e-9  # kpc/yr, velocity of lenses or sources\n",
    "    \n",
    "    print('typical distance between sources (as):', l_s / lt.arcsec)\n",
    "    print('typical velocity of sources (mas/yr):', v/R_disk / lt.arcsec * 1e3)\n",
    "    print('lenses better be '+str(l_s*R_disk/v)+' times closer to travel between two sources')\n",
    "    \n",
    "estimate(1e3, .1)"
   ]
  },
  {
   "cell_type": "code",
   "execution_count": null,
   "metadata": {},
   "outputs": [],
   "source": []
  }
 ],
 "metadata": {
  "kernelspec": {
   "display_name": "Python 3 (ipykernel)",
   "language": "python",
   "name": "python3"
  },
  "language_info": {
   "codemirror_mode": {
    "name": "ipython",
    "version": 3
   },
   "file_extension": ".py",
   "mimetype": "text/x-python",
   "name": "python",
   "nbconvert_exporter": "python",
   "pygments_lexer": "ipython3",
   "version": "3.9.5"
  }
 },
 "nbformat": 4,
 "nbformat_minor": 4
}
